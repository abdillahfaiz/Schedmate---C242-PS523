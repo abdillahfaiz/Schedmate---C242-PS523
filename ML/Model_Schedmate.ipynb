{
  "cells": [
    {
      "cell_type": "markdown",
      "metadata": {
        "id": "7UH2DnL8Ygjg"
      },
      "source": [
        "# Capstone Project: **SchedMate**"
      ]
    },
    {
      "cell_type": "markdown",
      "metadata": {
        "id": "Pwt6V9IusZFG"
      },
      "source": [
        "Import semua library yang dibutuhkan"
      ]
    },
    {
      "cell_type": "code",
      "execution_count": null,
      "metadata": {
        "id": "cZKDpAzgc_LQ"
      },
      "outputs": [],
      "source": [
        "import numpy as np\n",
        "import pandas as pd\n",
        "import matplotlib.pyplot as plt\n",
        "import seaborn as sns\n",
        "import urllib\n",
        "import matplotlib.image as mpimg\n",
        "import os\n",
        "import datetime as dt\n",
        "import tensorflow as tf\n",
        "import keras\n",
        "import scipy\n",
        "import sklearn\n",
        "import json\n",
        "import re\n",
        "from datetime import datetime\n",
        "from sklearn.model_selection import train_test_split\n",
        "from sklearn.metrics import accuracy_score, confusion_matrix\n",
        "from imblearn.over_sampling import SMOTE\n",
        "from sklearn.preprocessing import StandardScaler\n",
        "from tensorflow.keras.models import Sequential\n",
        "from tensorflow.keras.layers import Dense, Dropout, BatchNormalization, LeakyReLU\n",
        "from tensorflow.keras.optimizers import Adam\n",
        "from tensorflow.keras.callbacks import EarlyStopping, ReduceLROnPlateau\n",
        "from sklearn.ensemble import RandomForestRegressor\n",
        "from sklearn.metrics import mean_squared_error, mean_absolute_error, mean_squared_error, r2_score\n",
        "from sklearn.metrics import confusion_matrix as cm\n",
        "from google.colab import files\n",
        "from joblib import dump"
      ]
    },
    {
      "cell_type": "markdown",
      "metadata": {
        "id": "CXM62bkkh0E5"
      },
      "source": [
        "### GATHERING DATA"
      ]
    },
    {
      "cell_type": "markdown",
      "metadata": {
        "id": "n9UjhU9yqzuN"
      },
      "source": [
        "Pada tahap ini dilakukan pembacaan dataset yang akan dianalisis"
      ]
    },
    {
      "cell_type": "code",
      "execution_count": null,
      "metadata": {
        "id": "vt92tBPqqRPQ"
      },
      "outputs": [],
      "source": [
        "dataset = pd.read_csv(\"/content/Dataset Schedmate - Dataset Schedmate.csv\")"
      ]
    },
    {
      "cell_type": "code",
      "execution_count": null,
      "metadata": {
        "colab": {
          "base_uri": "https://localhost:8080/"
        },
        "id": "r981c5C-qZon",
        "outputId": "9b8d93f6-e0d7-47d9-8a6e-cd5ae2022bed"
      },
      "outputs": [
        {
          "data": {
            "application/vnd.google.colaboratory.intrinsic+json": {
              "type": "dataframe",
              "variable_name": "dataset"
            },
            "text/html": [
              "\n",
              "  <div id=\"df-d3f2e452-ed89-4138-b4f7-165a14a15481\" class=\"colab-df-container\">\n",
              "    <div>\n",
              "<style scoped>\n",
              "    .dataframe tbody tr th:only-of-type {\n",
              "        vertical-align: middle;\n",
              "    }\n",
              "\n",
              "    .dataframe tbody tr th {\n",
              "        vertical-align: top;\n",
              "    }\n",
              "\n",
              "    .dataframe thead th {\n",
              "        text-align: right;\n",
              "    }\n",
              "</style>\n",
              "<table border=\"1\" class=\"dataframe\">\n",
              "  <thead>\n",
              "    <tr style=\"text-align: right;\">\n",
              "      <th></th>\n",
              "      <th>ulangan</th>\n",
              "      <th>pts_pas</th>\n",
              "      <th>tugas</th>\n",
              "      <th>presentasi</th>\n",
              "      <th>proyek</th>\n",
              "      <th>ekstrakurikuler</th>\n",
              "      <th>organisasi</th>\n",
              "      <th>agama</th>\n",
              "      <th>pkn</th>\n",
              "      <th>olahraga</th>\n",
              "      <th>...</th>\n",
              "      <th>biologi</th>\n",
              "      <th>fisika</th>\n",
              "      <th>kimia</th>\n",
              "      <th>senbud</th>\n",
              "      <th>prakarya</th>\n",
              "      <th>sejarah</th>\n",
              "      <th>ekonomi</th>\n",
              "      <th>sosiologi</th>\n",
              "      <th>geografi</th>\n",
              "      <th>komputer</th>\n",
              "    </tr>\n",
              "  </thead>\n",
              "  <tbody>\n",
              "    <tr>\n",
              "      <th>0</th>\n",
              "      <td>5</td>\n",
              "      <td>5</td>\n",
              "      <td>3</td>\n",
              "      <td>4</td>\n",
              "      <td>5</td>\n",
              "      <td>3</td>\n",
              "      <td>3</td>\n",
              "      <td>2</td>\n",
              "      <td>3</td>\n",
              "      <td>2</td>\n",
              "      <td>...</td>\n",
              "      <td>3</td>\n",
              "      <td>5</td>\n",
              "      <td>4</td>\n",
              "      <td>1</td>\n",
              "      <td>1</td>\n",
              "      <td>4</td>\n",
              "      <td>1</td>\n",
              "      <td>2</td>\n",
              "      <td>4</td>\n",
              "      <td>2</td>\n",
              "    </tr>\n",
              "    <tr>\n",
              "      <th>1</th>\n",
              "      <td>5</td>\n",
              "      <td>5</td>\n",
              "      <td>4</td>\n",
              "      <td>3</td>\n",
              "      <td>3</td>\n",
              "      <td>1</td>\n",
              "      <td>1</td>\n",
              "      <td>2</td>\n",
              "      <td>3</td>\n",
              "      <td>1</td>\n",
              "      <td>...</td>\n",
              "      <td>4</td>\n",
              "      <td>4</td>\n",
              "      <td>4</td>\n",
              "      <td>1</td>\n",
              "      <td>1</td>\n",
              "      <td>2</td>\n",
              "      <td>3</td>\n",
              "      <td>3</td>\n",
              "      <td>5</td>\n",
              "      <td>3</td>\n",
              "    </tr>\n",
              "    <tr>\n",
              "      <th>2</th>\n",
              "      <td>4</td>\n",
              "      <td>4</td>\n",
              "      <td>4</td>\n",
              "      <td>4</td>\n",
              "      <td>4</td>\n",
              "      <td>2</td>\n",
              "      <td>1</td>\n",
              "      <td>1</td>\n",
              "      <td>1</td>\n",
              "      <td>1</td>\n",
              "      <td>...</td>\n",
              "      <td>3</td>\n",
              "      <td>4</td>\n",
              "      <td>4</td>\n",
              "      <td>1</td>\n",
              "      <td>2</td>\n",
              "      <td>2</td>\n",
              "      <td>2</td>\n",
              "      <td>2</td>\n",
              "      <td>4</td>\n",
              "      <td>4</td>\n",
              "    </tr>\n",
              "    <tr>\n",
              "      <th>3</th>\n",
              "      <td>3</td>\n",
              "      <td>5</td>\n",
              "      <td>5</td>\n",
              "      <td>5</td>\n",
              "      <td>5</td>\n",
              "      <td>3</td>\n",
              "      <td>3</td>\n",
              "      <td>2</td>\n",
              "      <td>2</td>\n",
              "      <td>2</td>\n",
              "      <td>...</td>\n",
              "      <td>2</td>\n",
              "      <td>3</td>\n",
              "      <td>2</td>\n",
              "      <td>1</td>\n",
              "      <td>2</td>\n",
              "      <td>3</td>\n",
              "      <td>2</td>\n",
              "      <td>4</td>\n",
              "      <td>4</td>\n",
              "      <td>3</td>\n",
              "    </tr>\n",
              "    <tr>\n",
              "      <th>4</th>\n",
              "      <td>4</td>\n",
              "      <td>3</td>\n",
              "      <td>4</td>\n",
              "      <td>5</td>\n",
              "      <td>5</td>\n",
              "      <td>1</td>\n",
              "      <td>2</td>\n",
              "      <td>1</td>\n",
              "      <td>1</td>\n",
              "      <td>1</td>\n",
              "      <td>...</td>\n",
              "      <td>2</td>\n",
              "      <td>5</td>\n",
              "      <td>1</td>\n",
              "      <td>1</td>\n",
              "      <td>3</td>\n",
              "      <td>3</td>\n",
              "      <td>2</td>\n",
              "      <td>2</td>\n",
              "      <td>3</td>\n",
              "      <td>2</td>\n",
              "    </tr>\n",
              "  </tbody>\n",
              "</table>\n",
              "<p>5 rows × 24 columns</p>\n",
              "</div>\n",
              "    <div class=\"colab-df-buttons\">\n",
              "\n",
              "  <div class=\"colab-df-container\">\n",
              "    <button class=\"colab-df-convert\" onclick=\"convertToInteractive('df-d3f2e452-ed89-4138-b4f7-165a14a15481')\"\n",
              "            title=\"Convert this dataframe to an interactive table.\"\n",
              "            style=\"display:none;\">\n",
              "\n",
              "  <svg xmlns=\"http://www.w3.org/2000/svg\" height=\"24px\" viewBox=\"0 -960 960 960\">\n",
              "    <path d=\"M120-120v-720h720v720H120Zm60-500h600v-160H180v160Zm220 220h160v-160H400v160Zm0 220h160v-160H400v160ZM180-400h160v-160H180v160Zm440 0h160v-160H620v160ZM180-180h160v-160H180v160Zm440 0h160v-160H620v160Z\"/>\n",
              "  </svg>\n",
              "    </button>\n",
              "\n",
              "  <style>\n",
              "    .colab-df-container {\n",
              "      display:flex;\n",
              "      gap: 12px;\n",
              "    }\n",
              "\n",
              "    .colab-df-convert {\n",
              "      background-color: #E8F0FE;\n",
              "      border: none;\n",
              "      border-radius: 50%;\n",
              "      cursor: pointer;\n",
              "      display: none;\n",
              "      fill: #1967D2;\n",
              "      height: 32px;\n",
              "      padding: 0 0 0 0;\n",
              "      width: 32px;\n",
              "    }\n",
              "\n",
              "    .colab-df-convert:hover {\n",
              "      background-color: #E2EBFA;\n",
              "      box-shadow: 0px 1px 2px rgba(60, 64, 67, 0.3), 0px 1px 3px 1px rgba(60, 64, 67, 0.15);\n",
              "      fill: #174EA6;\n",
              "    }\n",
              "\n",
              "    .colab-df-buttons div {\n",
              "      margin-bottom: 4px;\n",
              "    }\n",
              "\n",
              "    [theme=dark] .colab-df-convert {\n",
              "      background-color: #3B4455;\n",
              "      fill: #D2E3FC;\n",
              "    }\n",
              "\n",
              "    [theme=dark] .colab-df-convert:hover {\n",
              "      background-color: #434B5C;\n",
              "      box-shadow: 0px 1px 3px 1px rgba(0, 0, 0, 0.15);\n",
              "      filter: drop-shadow(0px 1px 2px rgba(0, 0, 0, 0.3));\n",
              "      fill: #FFFFFF;\n",
              "    }\n",
              "  </style>\n",
              "\n",
              "    <script>\n",
              "      const buttonEl =\n",
              "        document.querySelector('#df-d3f2e452-ed89-4138-b4f7-165a14a15481 button.colab-df-convert');\n",
              "      buttonEl.style.display =\n",
              "        google.colab.kernel.accessAllowed ? 'block' : 'none';\n",
              "\n",
              "      async function convertToInteractive(key) {\n",
              "        const element = document.querySelector('#df-d3f2e452-ed89-4138-b4f7-165a14a15481');\n",
              "        const dataTable =\n",
              "          await google.colab.kernel.invokeFunction('convertToInteractive',\n",
              "                                                    [key], {});\n",
              "        if (!dataTable) return;\n",
              "\n",
              "        const docLinkHtml = 'Like what you see? Visit the ' +\n",
              "          '<a target=\"_blank\" href=https://colab.research.google.com/notebooks/data_table.ipynb>data table notebook</a>'\n",
              "          + ' to learn more about interactive tables.';\n",
              "        element.innerHTML = '';\n",
              "        dataTable['output_type'] = 'display_data';\n",
              "        await google.colab.output.renderOutput(dataTable, element);\n",
              "        const docLink = document.createElement('div');\n",
              "        docLink.innerHTML = docLinkHtml;\n",
              "        element.appendChild(docLink);\n",
              "      }\n",
              "    </script>\n",
              "  </div>\n",
              "\n",
              "\n",
              "<div id=\"df-177e4178-d2da-41af-a19d-658c95982e7e\">\n",
              "  <button class=\"colab-df-quickchart\" onclick=\"quickchart('df-177e4178-d2da-41af-a19d-658c95982e7e')\"\n",
              "            title=\"Suggest charts\"\n",
              "            style=\"display:none;\">\n",
              "\n",
              "<svg xmlns=\"http://www.w3.org/2000/svg\" height=\"24px\"viewBox=\"0 0 24 24\"\n",
              "     width=\"24px\">\n",
              "    <g>\n",
              "        <path d=\"M19 3H5c-1.1 0-2 .9-2 2v14c0 1.1.9 2 2 2h14c1.1 0 2-.9 2-2V5c0-1.1-.9-2-2-2zM9 17H7v-7h2v7zm4 0h-2V7h2v10zm4 0h-2v-4h2v4z\"/>\n",
              "    </g>\n",
              "</svg>\n",
              "  </button>\n",
              "\n",
              "<style>\n",
              "  .colab-df-quickchart {\n",
              "      --bg-color: #E8F0FE;\n",
              "      --fill-color: #1967D2;\n",
              "      --hover-bg-color: #E2EBFA;\n",
              "      --hover-fill-color: #174EA6;\n",
              "      --disabled-fill-color: #AAA;\n",
              "      --disabled-bg-color: #DDD;\n",
              "  }\n",
              "\n",
              "  [theme=dark] .colab-df-quickchart {\n",
              "      --bg-color: #3B4455;\n",
              "      --fill-color: #D2E3FC;\n",
              "      --hover-bg-color: #434B5C;\n",
              "      --hover-fill-color: #FFFFFF;\n",
              "      --disabled-bg-color: #3B4455;\n",
              "      --disabled-fill-color: #666;\n",
              "  }\n",
              "\n",
              "  .colab-df-quickchart {\n",
              "    background-color: var(--bg-color);\n",
              "    border: none;\n",
              "    border-radius: 50%;\n",
              "    cursor: pointer;\n",
              "    display: none;\n",
              "    fill: var(--fill-color);\n",
              "    height: 32px;\n",
              "    padding: 0;\n",
              "    width: 32px;\n",
              "  }\n",
              "\n",
              "  .colab-df-quickchart:hover {\n",
              "    background-color: var(--hover-bg-color);\n",
              "    box-shadow: 0 1px 2px rgba(60, 64, 67, 0.3), 0 1px 3px 1px rgba(60, 64, 67, 0.15);\n",
              "    fill: var(--button-hover-fill-color);\n",
              "  }\n",
              "\n",
              "  .colab-df-quickchart-complete:disabled,\n",
              "  .colab-df-quickchart-complete:disabled:hover {\n",
              "    background-color: var(--disabled-bg-color);\n",
              "    fill: var(--disabled-fill-color);\n",
              "    box-shadow: none;\n",
              "  }\n",
              "\n",
              "  .colab-df-spinner {\n",
              "    border: 2px solid var(--fill-color);\n",
              "    border-color: transparent;\n",
              "    border-bottom-color: var(--fill-color);\n",
              "    animation:\n",
              "      spin 1s steps(1) infinite;\n",
              "  }\n",
              "\n",
              "  @keyframes spin {\n",
              "    0% {\n",
              "      border-color: transparent;\n",
              "      border-bottom-color: var(--fill-color);\n",
              "      border-left-color: var(--fill-color);\n",
              "    }\n",
              "    20% {\n",
              "      border-color: transparent;\n",
              "      border-left-color: var(--fill-color);\n",
              "      border-top-color: var(--fill-color);\n",
              "    }\n",
              "    30% {\n",
              "      border-color: transparent;\n",
              "      border-left-color: var(--fill-color);\n",
              "      border-top-color: var(--fill-color);\n",
              "      border-right-color: var(--fill-color);\n",
              "    }\n",
              "    40% {\n",
              "      border-color: transparent;\n",
              "      border-right-color: var(--fill-color);\n",
              "      border-top-color: var(--fill-color);\n",
              "    }\n",
              "    60% {\n",
              "      border-color: transparent;\n",
              "      border-right-color: var(--fill-color);\n",
              "    }\n",
              "    80% {\n",
              "      border-color: transparent;\n",
              "      border-right-color: var(--fill-color);\n",
              "      border-bottom-color: var(--fill-color);\n",
              "    }\n",
              "    90% {\n",
              "      border-color: transparent;\n",
              "      border-bottom-color: var(--fill-color);\n",
              "    }\n",
              "  }\n",
              "</style>\n",
              "\n",
              "  <script>\n",
              "    async function quickchart(key) {\n",
              "      const quickchartButtonEl =\n",
              "        document.querySelector('#' + key + ' button');\n",
              "      quickchartButtonEl.disabled = true;  // To prevent multiple clicks.\n",
              "      quickchartButtonEl.classList.add('colab-df-spinner');\n",
              "      try {\n",
              "        const charts = await google.colab.kernel.invokeFunction(\n",
              "            'suggestCharts', [key], {});\n",
              "      } catch (error) {\n",
              "        console.error('Error during call to suggestCharts:', error);\n",
              "      }\n",
              "      quickchartButtonEl.classList.remove('colab-df-spinner');\n",
              "      quickchartButtonEl.classList.add('colab-df-quickchart-complete');\n",
              "    }\n",
              "    (() => {\n",
              "      let quickchartButtonEl =\n",
              "        document.querySelector('#df-177e4178-d2da-41af-a19d-658c95982e7e button');\n",
              "      quickchartButtonEl.style.display =\n",
              "        google.colab.kernel.accessAllowed ? 'block' : 'none';\n",
              "    })();\n",
              "  </script>\n",
              "</div>\n",
              "\n",
              "    </div>\n",
              "  </div>\n"
            ],
            "text/plain": [
              "   ulangan  pts_pas  tugas  presentasi  proyek  ekstrakurikuler  organisasi  \\\n",
              "0        5        5      3           4       5                3           3   \n",
              "1        5        5      4           3       3                1           1   \n",
              "2        4        4      4           4       4                2           1   \n",
              "3        3        5      5           5       5                3           3   \n",
              "4        4        3      4           5       5                1           2   \n",
              "\n",
              "   agama  pkn  olahraga  ...  biologi  fisika  kimia  senbud  prakarya  \\\n",
              "0      2    3         2  ...        3       5      4       1         1   \n",
              "1      2    3         1  ...        4       4      4       1         1   \n",
              "2      1    1         1  ...        3       4      4       1         2   \n",
              "3      2    2         2  ...        2       3      2       1         2   \n",
              "4      1    1         1  ...        2       5      1       1         3   \n",
              "\n",
              "   sejarah  ekonomi  sosiologi  geografi  komputer  \n",
              "0        4        1          2         4         2  \n",
              "1        2        3          3         5         3  \n",
              "2        2        2          2         4         4  \n",
              "3        3        2          4         4         3  \n",
              "4        3        2          2         3         2  \n",
              "\n",
              "[5 rows x 24 columns]"
            ]
          },
          "execution_count": 3,
          "metadata": {},
          "output_type": "execute_result"
        }
      ],
      "source": [
        "dataset.head()"
      ]
    },
    {
      "cell_type": "markdown",
      "metadata": {
        "id": "BerMYziMikjz"
      },
      "source": [
        "### ASSESSING DATA"
      ]
    },
    {
      "cell_type": "markdown",
      "metadata": {
        "id": "XPTDi1YDrD2K"
      },
      "source": [
        "Melalukan penilaian terhadap dataset yang telah dibaca sebelumnya. Pada proses ini juga data akan diperiksa kelengkapannya seperti missing value, duplikasi, dan lainnya."
      ]
    },
    {
      "cell_type": "code",
      "execution_count": null,
      "metadata": {
        "colab": {
          "base_uri": "https://localhost:8080/"
        },
        "id": "imkmI3Cdqe5w",
        "outputId": "07050e22-e219-49da-a235-fef235f362a1"
      },
      "outputs": [
        {
          "name": "stdout",
          "output_type": "stream",
          "text": [
            "<class 'pandas.core.frame.DataFrame'>\n",
            "RangeIndex: 602 entries, 0 to 601\n",
            "Data columns (total 24 columns):\n",
            " #   Column           Non-Null Count  Dtype\n",
            "---  ------           --------------  -----\n",
            " 0   ulangan          602 non-null    int64\n",
            " 1   pts_pas          602 non-null    int64\n",
            " 2   tugas            602 non-null    int64\n",
            " 3   presentasi       602 non-null    int64\n",
            " 4   proyek           602 non-null    int64\n",
            " 5   ekstrakurikuler  602 non-null    int64\n",
            " 6   organisasi       602 non-null    int64\n",
            " 7   agama            602 non-null    int64\n",
            " 8   pkn              602 non-null    int64\n",
            " 9   olahraga         602 non-null    int64\n",
            " 10  indonesia        602 non-null    int64\n",
            " 11  inggris          602 non-null    int64\n",
            " 12  mandarin         602 non-null    int64\n",
            " 13  matematika       602 non-null    int64\n",
            " 14  biologi          602 non-null    int64\n",
            " 15  fisika           602 non-null    int64\n",
            " 16  kimia            602 non-null    int64\n",
            " 17  senbud           602 non-null    int64\n",
            " 18  prakarya         602 non-null    int64\n",
            " 19  sejarah          602 non-null    int64\n",
            " 20  ekonomi          602 non-null    int64\n",
            " 21  sosiologi        602 non-null    int64\n",
            " 22  geografi         602 non-null    int64\n",
            " 23  komputer         602 non-null    int64\n",
            "dtypes: int64(24)\n",
            "memory usage: 113.0 KB\n"
          ]
        }
      ],
      "source": [
        "dataset.info()"
      ]
    },
    {
      "cell_type": "markdown",
      "metadata": {
        "id": "xeyowuhjrVi7"
      },
      "source": [
        "Periksa apakah terdapat duplikasi data"
      ]
    },
    {
      "cell_type": "code",
      "execution_count": null,
      "metadata": {
        "colab": {
          "base_uri": "https://localhost:8080/"
        },
        "id": "BaqSRLy-qo-K",
        "outputId": "cd6d6d81-cced-4cd8-fc5d-a5faf73cc555"
      },
      "outputs": [
        {
          "name": "stdout",
          "output_type": "stream",
          "text": [
            "Jumlah duplikasi:  0\n"
          ]
        }
      ],
      "source": [
        "print(\"Jumlah duplikasi: \", dataset.duplicated().sum())"
      ]
    },
    {
      "cell_type": "markdown",
      "metadata": {
        "id": "2VOK-qINrX7x"
      },
      "source": [
        "Periksa apakah terdapat missing value pada data"
      ]
    },
    {
      "cell_type": "code",
      "execution_count": null,
      "metadata": {
        "colab": {
          "base_uri": "https://localhost:8080/"
        },
        "id": "O2FfdRFAqvUL",
        "outputId": "5a12e593-fb97-43b6-954c-4621f2d39bf6"
      },
      "outputs": [
        {
          "data": {
            "text/html": [
              "<div>\n",
              "<style scoped>\n",
              "    .dataframe tbody tr th:only-of-type {\n",
              "        vertical-align: middle;\n",
              "    }\n",
              "\n",
              "    .dataframe tbody tr th {\n",
              "        vertical-align: top;\n",
              "    }\n",
              "\n",
              "    .dataframe thead th {\n",
              "        text-align: right;\n",
              "    }\n",
              "</style>\n",
              "<table border=\"1\" class=\"dataframe\">\n",
              "  <thead>\n",
              "    <tr style=\"text-align: right;\">\n",
              "      <th></th>\n",
              "      <th>0</th>\n",
              "    </tr>\n",
              "  </thead>\n",
              "  <tbody>\n",
              "    <tr>\n",
              "      <th>ulangan</th>\n",
              "      <td>0</td>\n",
              "    </tr>\n",
              "    <tr>\n",
              "      <th>pts_pas</th>\n",
              "      <td>0</td>\n",
              "    </tr>\n",
              "    <tr>\n",
              "      <th>tugas</th>\n",
              "      <td>0</td>\n",
              "    </tr>\n",
              "    <tr>\n",
              "      <th>presentasi</th>\n",
              "      <td>0</td>\n",
              "    </tr>\n",
              "    <tr>\n",
              "      <th>proyek</th>\n",
              "      <td>0</td>\n",
              "    </tr>\n",
              "    <tr>\n",
              "      <th>ekstrakurikuler</th>\n",
              "      <td>0</td>\n",
              "    </tr>\n",
              "    <tr>\n",
              "      <th>organisasi</th>\n",
              "      <td>0</td>\n",
              "    </tr>\n",
              "    <tr>\n",
              "      <th>agama</th>\n",
              "      <td>0</td>\n",
              "    </tr>\n",
              "    <tr>\n",
              "      <th>pkn</th>\n",
              "      <td>0</td>\n",
              "    </tr>\n",
              "    <tr>\n",
              "      <th>olahraga</th>\n",
              "      <td>0</td>\n",
              "    </tr>\n",
              "    <tr>\n",
              "      <th>indonesia</th>\n",
              "      <td>0</td>\n",
              "    </tr>\n",
              "    <tr>\n",
              "      <th>inggris</th>\n",
              "      <td>0</td>\n",
              "    </tr>\n",
              "    <tr>\n",
              "      <th>mandarin</th>\n",
              "      <td>0</td>\n",
              "    </tr>\n",
              "    <tr>\n",
              "      <th>matematika</th>\n",
              "      <td>0</td>\n",
              "    </tr>\n",
              "    <tr>\n",
              "      <th>biologi</th>\n",
              "      <td>0</td>\n",
              "    </tr>\n",
              "    <tr>\n",
              "      <th>fisika</th>\n",
              "      <td>0</td>\n",
              "    </tr>\n",
              "    <tr>\n",
              "      <th>kimia</th>\n",
              "      <td>0</td>\n",
              "    </tr>\n",
              "    <tr>\n",
              "      <th>senbud</th>\n",
              "      <td>0</td>\n",
              "    </tr>\n",
              "    <tr>\n",
              "      <th>prakarya</th>\n",
              "      <td>0</td>\n",
              "    </tr>\n",
              "    <tr>\n",
              "      <th>sejarah</th>\n",
              "      <td>0</td>\n",
              "    </tr>\n",
              "    <tr>\n",
              "      <th>ekonomi</th>\n",
              "      <td>0</td>\n",
              "    </tr>\n",
              "    <tr>\n",
              "      <th>sosiologi</th>\n",
              "      <td>0</td>\n",
              "    </tr>\n",
              "    <tr>\n",
              "      <th>geografi</th>\n",
              "      <td>0</td>\n",
              "    </tr>\n",
              "    <tr>\n",
              "      <th>komputer</th>\n",
              "      <td>0</td>\n",
              "    </tr>\n",
              "  </tbody>\n",
              "</table>\n",
              "</div><br><label><b>dtype:</b> int64</label>"
            ],
            "text/plain": [
              "ulangan            0\n",
              "pts_pas            0\n",
              "tugas              0\n",
              "presentasi         0\n",
              "proyek             0\n",
              "ekstrakurikuler    0\n",
              "organisasi         0\n",
              "agama              0\n",
              "pkn                0\n",
              "olahraga           0\n",
              "indonesia          0\n",
              "inggris            0\n",
              "mandarin           0\n",
              "matematika         0\n",
              "biologi            0\n",
              "fisika             0\n",
              "kimia              0\n",
              "senbud             0\n",
              "prakarya           0\n",
              "sejarah            0\n",
              "ekonomi            0\n",
              "sosiologi          0\n",
              "geografi           0\n",
              "komputer           0\n",
              "dtype: int64"
            ]
          },
          "execution_count": 6,
          "metadata": {},
          "output_type": "execute_result"
        }
      ],
      "source": [
        "dataset.isna().sum()"
      ]
    },
    {
      "cell_type": "markdown",
      "metadata": {
        "id": "Zm30sufFkXD4"
      },
      "source": [
        "### CLEANING DATA"
      ]
    },
    {
      "cell_type": "markdown",
      "metadata": {
        "id": "o1P2TP1krdh4"
      },
      "source": [
        "Sudah tidak terdapat duplikasi, missing value, dan lainnya pada data\n"
      ]
    },
    {
      "cell_type": "markdown",
      "metadata": {
        "id": "-AbetMpe_HfI"
      },
      "source": [
        "### PEMODELAN DATA"
      ]
    },
    {
      "cell_type": "markdown",
      "metadata": {
        "id": "ETaksjXTFq64"
      },
      "source": [
        "Penentuan bobot untuk jenis tugas dan mata pelajaran, bobot aktivitas di buat lebih besar dibandiing dengan bobot mata pelajaran"
      ]
    },
    {
      "cell_type": "code",
      "execution_count": null,
      "metadata": {
        "id": "F-OzqhX5ffxV"
      },
      "outputs": [],
      "source": [
        "w_activity = 0.5\n",
        "w_subject = 0.5"
      ]
    },
    {
      "cell_type": "markdown",
      "metadata": {
        "id": "xTw4AISDflre"
      },
      "source": [
        "Hitung skor prioritas yang menggabungkan bobot aktivitas dan bobot mata pelajaran"
      ]
    },
    {
      "cell_type": "code",
      "execution_count": null,
      "metadata": {
        "id": "DmZffbqMFlJe"
      },
      "outputs": [],
      "source": [
        "dataset['priority_Score'] = (\n",
        "    w_activity * dataset[['ulangan', 'pts_pas', 'tugas', 'presentasi', 'proyek', 'ekstrakurikuler', 'organisasi']].max(axis=1) +\n",
        "    w_subject * dataset[['agama', 'pkn', 'olahraga', 'indonesia', 'inggris', 'mandarin', 'matematika', 'biologi', 'fisika', 'kimia', 'senbud', 'prakarya', 'sejarah', 'ekonomi', 'sosiologi', 'geografi', 'komputer']].max(axis=1)\n",
        ")"
      ]
    },
    {
      "cell_type": "markdown",
      "metadata": {
        "id": "lWcjpzyvHkHl"
      },
      "source": [
        "Melihat priority score yang sudah dihitung"
      ]
    },
    {
      "cell_type": "code",
      "execution_count": null,
      "metadata": {
        "colab": {
          "base_uri": "https://localhost:8080/"
        },
        "id": "4-bnjiahlNIM",
        "outputId": "988495fe-f8ed-4e66-cb14-438ec005000b"
      },
      "outputs": [
        {
          "name": "stdout",
          "output_type": "stream",
          "text": [
            "   priority_Score\n",
            "0             5.0\n",
            "1             5.0\n",
            "2             4.5\n",
            "3             4.5\n",
            "4             5.0\n",
            "count    602.000000\n",
            "mean       4.787375\n",
            "std        0.296356\n",
            "min        3.500000\n",
            "25%        4.500000\n",
            "50%        5.000000\n",
            "75%        5.000000\n",
            "max        5.000000\n",
            "Name: priority_Score, dtype: float64\n"
          ]
        }
      ],
      "source": [
        "print(dataset[['priority_Score']].head())\n",
        "print(dataset['priority_Score'].describe())"
      ]
    },
    {
      "cell_type": "markdown",
      "metadata": {
        "id": "qXpgtlNBfoI2"
      },
      "source": [
        "Tambahkan beberapa data secara manual untuk memperbesar dataset"
      ]
    },
    {
      "cell_type": "code",
      "execution_count": null,
      "metadata": {
        "id": "E46aA7FRvQWi"
      },
      "outputs": [],
      "source": [
        "data_add = pd.DataFrame({\n",
        "    'ulangan': [1, 1],\n",
        "    'pts_pas': [1, 2],\n",
        "    'tugas': [1, 1],\n",
        "    'presentasi': [1, 2],\n",
        "    'proyek': [1, 1],\n",
        "    'ekstrakurikuler': [1, 2],\n",
        "    'organisasi': [1, 1],\n",
        "    'agama': [1, 2],\n",
        "    'pkn': [1, 1],\n",
        "    'olahraga': [1, 1],\n",
        "    'indonesia': [1, 2],\n",
        "    'inggris': [1, 1],\n",
        "    'mandarin': [1, 1],\n",
        "    'matematika': [1, 1],\n",
        "    'biologi': [1, 2],\n",
        "    'fisika': [1, 1],\n",
        "    'kimia': [1, 1],\n",
        "    'senbud': [1, 1],\n",
        "    'prakarya': [1, 1],\n",
        "    'sejarah': [1, 1],\n",
        "    'ekonomi': [1, 1],\n",
        "    'sosiologi': [1, 1],\n",
        "    'geografi': [1, 1],\n",
        "    'komputer': [1, 1],\n",
        "    'priority_Score': [2, 3],\n",
        "    'recommendation': [1, 2]\n",
        "})\n"
      ]
    },
    {
      "cell_type": "markdown",
      "metadata": {
        "id": "Az2BqbMCf7Uk"
      },
      "source": [
        "Menggabungkan dataset"
      ]
    },
    {
      "cell_type": "code",
      "execution_count": null,
      "metadata": {
        "id": "l4XVmjEDfyHm"
      },
      "outputs": [],
      "source": [
        "dataset = pd.concat([dataset, data_add], ignore_index=True)"
      ]
    },
    {
      "cell_type": "markdown",
      "metadata": {
        "id": "JpWTiD5hf__O"
      },
      "source": [
        "Kategorikan priority score menjadi lima kategori kelas"
      ]
    },
    {
      "cell_type": "code",
      "execution_count": null,
      "metadata": {
        "id": "811h6CUG_Pim"
      },
      "outputs": [],
      "source": [
        "bins = [0, 4, 6, 8, 10, 12]\n",
        "labels = [1, 2, 3, 4, 5]\n",
        "dataset['recommendation'] = pd.cut(dataset['priority_Score'], bins=bins, labels=labels).astype(int)"
      ]
    },
    {
      "cell_type": "code",
      "execution_count": null,
      "metadata": {
        "colab": {
          "base_uri": "https://localhost:8080/"
        },
        "id": "YjF5_S06uQtE",
        "outputId": "74d810d5-58a6-498c-cc5a-e3d6bbf527be"
      },
      "outputs": [
        {
          "name": "stdout",
          "output_type": "stream",
          "text": [
            "recommendation\n",
            "2    574\n",
            "1     30\n",
            "Name: count, dtype: int64\n"
          ]
        }
      ],
      "source": [
        "print(dataset['recommendation'].value_counts())"
      ]
    },
    {
      "cell_type": "markdown",
      "metadata": {
        "id": "hp2omM8AIYs2"
      },
      "source": [
        "Memisahkan X (fitur) yang merupakan semua kolom kecuali target dan skor prioritas dan Y (target) yang merupakan kolom kategori prioritas"
      ]
    },
    {
      "cell_type": "code",
      "execution_count": null,
      "metadata": {
        "id": "BQKIReyHZ3U-"
      },
      "outputs": [],
      "source": [
        "X = dataset.drop(columns=['priority_Score'])\n",
        "y = dataset['priority_Score']"
      ]
    },
    {
      "cell_type": "markdown",
      "metadata": {
        "id": "-NO4AJ5CJW92"
      },
      "source": [
        "Membagi dataset menjadi 80% data test dan 20% data train, kemudian menangani ketidakseimbangan data dengan SMOTE (Synthetic Minority Oversampling Technique)"
      ]
    },
    {
      "cell_type": "code",
      "execution_count": null,
      "metadata": {
        "id": "ZxTcAA06Z8y6"
      },
      "outputs": [],
      "source": [
        "X_train, X_test, y_train, y_test = train_test_split(X, y, test_size=0.2, random_state=42)"
      ]
    },
    {
      "cell_type": "markdown",
      "metadata": {
        "id": "Z16DmjP5gNnR"
      },
      "source": [
        "Lakukan normalisasi data dengan menggunakan StandarScaler"
      ]
    },
    {
      "cell_type": "code",
      "execution_count": null,
      "metadata": {
        "id": "qQMEcNlsKUuc"
      },
      "outputs": [],
      "source": [
        "scaler = StandardScaler()\n",
        "X_train_scaled = scaler.fit_transform(X_train)\n",
        "X_test_scaled = scaler.transform(X_test)"
      ]
    },
    {
      "cell_type": "markdown",
      "metadata": {
        "id": "WU--MlsBLZup"
      },
      "source": [
        "## Modeling dengan menggunakan TensorFlow"
      ]
    },
    {
      "cell_type": "markdown",
      "metadata": {
        "id": "UIUddRcTi9Fl"
      },
      "source": [
        "Model akhir: Membuat lima kategori berdasarkan prioritas"
      ]
    },
    {
      "cell_type": "code",
      "execution_count": null,
      "metadata": {
        "colab": {
          "base_uri": "https://localhost:8080/"
        },
        "id": "CH7J3MSqpoyh",
        "outputId": "6bc237be-b7bc-49d4-8f7b-f37f4dac795f"
      },
      "outputs": [
        {
          "name": "stderr",
          "output_type": "stream",
          "text": [
            "/usr/local/lib/python3.10/dist-packages/keras/src/layers/core/dense.py:87: UserWarning: Do not pass an `input_shape`/`input_dim` argument to a layer. When using Sequential models, prefer using an `Input(shape)` object as the first layer in the model instead.\n",
            "  super().__init__(activity_regularizer=activity_regularizer, **kwargs)\n",
            "/usr/local/lib/python3.10/dist-packages/keras/src/layers/activations/leaky_relu.py:41: UserWarning: Argument `alpha` is deprecated. Use `negative_slope` instead.\n",
            "  warnings.warn(\n"
          ]
        }
      ],
      "source": [
        "model = Sequential([\n",
        "    Dense(128, kernel_regularizer='l2', input_shape=(X_train_scaled.shape[1],)),\n",
        "    LeakyReLU(alpha=0.1),\n",
        "    BatchNormalization(),\n",
        "    Dropout(0.2),\n",
        "    Dense(64, kernel_regularizer='l2'),\n",
        "    LeakyReLU(alpha=0.1),\n",
        "    BatchNormalization(),\n",
        "    Dropout(0.1),\n",
        "    Dense(1, activation='linear')\n",
        "])"
      ]
    },
    {
      "cell_type": "markdown",
      "metadata": {
        "id": "B9TwCxtXLYzx"
      },
      "source": [
        "Compile model dengan menggunakan optimizer Adam, categorical crossentropy dan metricsnya berupa accuracy"
      ]
    },
    {
      "cell_type": "code",
      "execution_count": null,
      "metadata": {
        "id": "X3mwRZLOaOw_"
      },
      "outputs": [],
      "source": [
        "model.compile(optimizer=Adam(learning_rate=0.001), loss='mse', metrics=['mae'])\n"
      ]
    },
    {
      "cell_type": "markdown",
      "metadata": {
        "id": "lF5Wuq4fjQ4N"
      },
      "source": [
        "Optimasi menggunakan callbacks"
      ]
    },
    {
      "cell_type": "code",
      "execution_count": null,
      "metadata": {
        "id": "XyC3KrykjSzJ"
      },
      "outputs": [],
      "source": [
        "early_stopping = EarlyStopping(monitor='val_loss', patience=8, restore_best_weights=True)\n",
        "lr_scheduler = ReduceLROnPlateau(monitor='val_loss', factor=0.5, patience=5)"
      ]
    },
    {
      "cell_type": "markdown",
      "metadata": {
        "id": "ZK9CKnuaLYZ_"
      },
      "source": [
        "Melatih model menggunakan data yang sudah diproses sebelumnya"
      ]
    },
    {
      "cell_type": "code",
      "execution_count": null,
      "metadata": {
        "colab": {
          "background_save": true,
          "base_uri": "https://localhost:8080/"
        },
        "id": "eeWTTWvepzx6",
        "outputId": "850a027a-193e-4614-dbb5-e18b6f5e0dd9"
      },
      "outputs": [
        {
          "name": "stdout",
          "output_type": "stream",
          "text": [
            "Epoch 1/200\n",
            "\u001b[1m31/31\u001b[0m \u001b[32m━━━━━━━━━━━━━━━━━━━━\u001b[0m\u001b[37m\u001b[0m \u001b[1m8s\u001b[0m 40ms/step - loss: 24.7982 - mae: 4.7004 - val_loss: 22.1076 - val_mae: 4.5512 - learning_rate: 0.0010\n",
            "Epoch 2/200\n",
            "\u001b[1m31/31\u001b[0m \u001b[32m━━━━━━━━━━━━━━━━━━━━\u001b[0m\u001b[37m\u001b[0m \u001b[1m1s\u001b[0m 5ms/step - loss: 21.0986 - mae: 4.3573 - val_loss: 18.0166 - val_mae: 4.0780 - learning_rate: 0.0010\n",
            "Epoch 3/200\n",
            "\u001b[1m31/31\u001b[0m \u001b[32m━━━━━━━━━━━━━━━━━━━━\u001b[0m\u001b[37m\u001b[0m \u001b[1m0s\u001b[0m 6ms/step - loss: 17.5819 - mae: 3.9323 - val_loss: 14.6674 - val_mae: 3.6432 - learning_rate: 0.0010\n",
            "Epoch 4/200\n",
            "\u001b[1m31/31\u001b[0m \u001b[32m━━━━━━━━━━━━━━━━━━━━\u001b[0m\u001b[37m\u001b[0m \u001b[1m0s\u001b[0m 5ms/step - loss: 15.0084 - mae: 3.5931 - val_loss: 11.3968 - val_mae: 3.1632 - learning_rate: 0.0010\n",
            "Epoch 5/200\n",
            "\u001b[1m31/31\u001b[0m \u001b[32m━━━━━━━━━━━━━━━━━━━━\u001b[0m\u001b[37m\u001b[0m \u001b[1m0s\u001b[0m 4ms/step - loss: 11.5584 - mae: 3.0652 - val_loss: 8.0721 - val_mae: 2.5740 - learning_rate: 0.0010\n",
            "Epoch 6/200\n",
            "\u001b[1m31/31\u001b[0m \u001b[32m━━━━━━━━━━━━━━━━━━━━\u001b[0m\u001b[37m\u001b[0m \u001b[1m0s\u001b[0m 4ms/step - loss: 8.4273 - mae: 2.4649 - val_loss: 5.5079 - val_mae: 2.0168 - learning_rate: 0.0010\n",
            "Epoch 7/200\n",
            "\u001b[1m31/31\u001b[0m \u001b[32m━━━━━━━━━━━━━━━━━━━━\u001b[0m\u001b[37m\u001b[0m \u001b[1m0s\u001b[0m 5ms/step - loss: 5.5270 - mae: 1.8432 - val_loss: 3.3743 - val_mae: 1.3797 - learning_rate: 0.0010\n",
            "Epoch 8/200\n",
            "\u001b[1m31/31\u001b[0m \u001b[32m━━━━━━━━━━━━━━━━━━━━\u001b[0m\u001b[37m\u001b[0m \u001b[1m0s\u001b[0m 4ms/step - loss: 4.2045 - mae: 1.4642 - val_loss: 2.4995 - val_mae: 0.9832 - learning_rate: 0.0010\n",
            "Epoch 9/200\n",
            "\u001b[1m31/31\u001b[0m \u001b[32m━━━━━━━━━━━━━━━━━━━━\u001b[0m\u001b[37m\u001b[0m \u001b[1m0s\u001b[0m 4ms/step - loss: 3.3791 - mae: 1.1768 - val_loss: 2.0335 - val_mae: 0.7323 - learning_rate: 0.0010\n",
            "Epoch 10/200\n",
            "\u001b[1m31/31\u001b[0m \u001b[32m━━━━━━━━━━━━━━━━━━━━\u001b[0m\u001b[37m\u001b[0m \u001b[1m0s\u001b[0m 5ms/step - loss: 2.8707 - mae: 1.0240 - val_loss: 1.8998 - val_mae: 0.6876 - learning_rate: 0.0010\n",
            "Epoch 11/200\n",
            "\u001b[1m31/31\u001b[0m \u001b[32m━━━━━━━━━━━━━━━━━━━━\u001b[0m\u001b[37m\u001b[0m \u001b[1m0s\u001b[0m 6ms/step - loss: 2.3451 - mae: 0.8324 - val_loss: 1.6582 - val_mae: 0.5443 - learning_rate: 0.0010\n",
            "Epoch 12/200\n",
            "\u001b[1m31/31\u001b[0m \u001b[32m━━━━━━━━━━━━━━━━━━━━\u001b[0m\u001b[37m\u001b[0m \u001b[1m0s\u001b[0m 5ms/step - loss: 2.3957 - mae: 0.8582 - val_loss: 1.7389 - val_mae: 0.5856 - learning_rate: 0.0010\n",
            "Epoch 13/200\n",
            "\u001b[1m31/31\u001b[0m \u001b[32m━━━━━━━━━━━━━━━━━━━━\u001b[0m\u001b[37m\u001b[0m \u001b[1m0s\u001b[0m 4ms/step - loss: 2.6215 - mae: 0.9506 - val_loss: 1.6262 - val_mae: 0.5365 - learning_rate: 0.0010\n",
            "Epoch 14/200\n",
            "\u001b[1m31/31\u001b[0m \u001b[32m━━━━━━━━━━━━━━━━━━━━\u001b[0m\u001b[37m\u001b[0m \u001b[1m0s\u001b[0m 4ms/step - loss: 2.3596 - mae: 0.8596 - val_loss: 1.6019 - val_mae: 0.5104 - learning_rate: 0.0010\n",
            "Epoch 15/200\n",
            "\u001b[1m31/31\u001b[0m \u001b[32m━━━━━━━━━━━━━━━━━━━━\u001b[0m\u001b[37m\u001b[0m \u001b[1m0s\u001b[0m 4ms/step - loss: 2.1861 - mae: 0.8081 - val_loss: 1.5807 - val_mae: 0.5178 - learning_rate: 0.0010\n",
            "Epoch 16/200\n",
            "\u001b[1m31/31\u001b[0m \u001b[32m━━━━━━━━━━━━━━━━━━━━\u001b[0m\u001b[37m\u001b[0m \u001b[1m0s\u001b[0m 5ms/step - loss: 2.4547 - mae: 0.8854 - val_loss: 1.7004 - val_mae: 0.5861 - learning_rate: 0.0010\n",
            "Epoch 17/200\n",
            "\u001b[1m31/31\u001b[0m \u001b[32m━━━━━━━━━━━━━━━━━━━━\u001b[0m\u001b[37m\u001b[0m \u001b[1m0s\u001b[0m 4ms/step - loss: 2.1743 - mae: 0.8076 - val_loss: 1.5406 - val_mae: 0.4827 - learning_rate: 0.0010\n",
            "Epoch 18/200\n",
            "\u001b[1m31/31\u001b[0m \u001b[32m━━━━━━━━━━━━━━━━━━━━\u001b[0m\u001b[37m\u001b[0m \u001b[1m0s\u001b[0m 4ms/step - loss: 2.1720 - mae: 0.7628 - val_loss: 1.5837 - val_mae: 0.5166 - learning_rate: 0.0010\n",
            "Epoch 19/200\n",
            "\u001b[1m31/31\u001b[0m \u001b[32m━━━━━━━━━━━━━━━━━━━━\u001b[0m\u001b[37m\u001b[0m \u001b[1m0s\u001b[0m 4ms/step - loss: 2.2426 - mae: 0.8302 - val_loss: 1.5754 - val_mae: 0.5128 - learning_rate: 0.0010\n",
            "Epoch 20/200\n",
            "\u001b[1m31/31\u001b[0m \u001b[32m━━━━━━━━━━━━━━━━━━━━\u001b[0m\u001b[37m\u001b[0m \u001b[1m0s\u001b[0m 4ms/step - loss: 2.1073 - mae: 0.7687 - val_loss: 1.6034 - val_mae: 0.5447 - learning_rate: 0.0010\n",
            "Epoch 21/200\n",
            "\u001b[1m31/31\u001b[0m \u001b[32m━━━━━━━━━━━━━━━━━━━━\u001b[0m\u001b[37m\u001b[0m \u001b[1m0s\u001b[0m 4ms/step - loss: 1.9618 - mae: 0.7108 - val_loss: 1.4987 - val_mae: 0.4770 - learning_rate: 0.0010\n",
            "Epoch 22/200\n",
            "\u001b[1m31/31\u001b[0m \u001b[32m━━━━━━━━━━━━━━━━━━━━\u001b[0m\u001b[37m\u001b[0m \u001b[1m0s\u001b[0m 4ms/step - loss: 1.9926 - mae: 0.7163 - val_loss: 1.4786 - val_mae: 0.4685 - learning_rate: 0.0010\n",
            "Epoch 23/200\n",
            "\u001b[1m31/31\u001b[0m \u001b[32m━━━━━━━━━━━━━━━━━━━━\u001b[0m\u001b[37m\u001b[0m \u001b[1m0s\u001b[0m 4ms/step - loss: 1.8972 - mae: 0.6922 - val_loss: 1.3992 - val_mae: 0.4060 - learning_rate: 0.0010\n",
            "Epoch 24/200\n",
            "\u001b[1m31/31\u001b[0m \u001b[32m━━━━━━━━━━━━━━━━━━━━\u001b[0m\u001b[37m\u001b[0m \u001b[1m0s\u001b[0m 4ms/step - loss: 1.9138 - mae: 0.6924 - val_loss: 1.3865 - val_mae: 0.4237 - learning_rate: 0.0010\n",
            "Epoch 25/200\n",
            "\u001b[1m31/31\u001b[0m \u001b[32m━━━━━━━━━━━━━━━━━━━━\u001b[0m\u001b[37m\u001b[0m \u001b[1m0s\u001b[0m 4ms/step - loss: 1.9675 - mae: 0.7120 - val_loss: 1.6761 - val_mae: 0.5227 - learning_rate: 0.0010\n",
            "Epoch 26/200\n",
            "\u001b[1m31/31\u001b[0m \u001b[32m━━━━━━━━━━━━━━━━━━━━\u001b[0m\u001b[37m\u001b[0m \u001b[1m0s\u001b[0m 4ms/step - loss: 1.9810 - mae: 0.7424 - val_loss: 1.3895 - val_mae: 0.4366 - learning_rate: 0.0010\n",
            "Epoch 27/200\n",
            "\u001b[1m31/31\u001b[0m \u001b[32m━━━━━━━━━━━━━━━━━━━━\u001b[0m\u001b[37m\u001b[0m \u001b[1m0s\u001b[0m 4ms/step - loss: 1.8095 - mae: 0.6495 - val_loss: 1.3431 - val_mae: 0.4025 - learning_rate: 0.0010\n",
            "Epoch 28/200\n",
            "\u001b[1m31/31\u001b[0m \u001b[32m━━━━━━━━━━━━━━━━━━━━\u001b[0m\u001b[37m\u001b[0m \u001b[1m0s\u001b[0m 4ms/step - loss: 1.7859 - mae: 0.6670 - val_loss: 1.3976 - val_mae: 0.4375 - learning_rate: 0.0010\n",
            "Epoch 29/200\n",
            "\u001b[1m31/31\u001b[0m \u001b[32m━━━━━━━━━━━━━━━━━━━━\u001b[0m\u001b[37m\u001b[0m \u001b[1m0s\u001b[0m 3ms/step - loss: 1.7308 - mae: 0.6210 - val_loss: 1.4722 - val_mae: 0.4839 - learning_rate: 0.0010\n",
            "Epoch 30/200\n",
            "\u001b[1m31/31\u001b[0m \u001b[32m━━━━━━━━━━━━━━━━━━━━\u001b[0m\u001b[37m\u001b[0m \u001b[1m0s\u001b[0m 4ms/step - loss: 1.7451 - mae: 0.6604 - val_loss: 1.4465 - val_mae: 0.4671 - learning_rate: 0.0010\n",
            "Epoch 31/200\n",
            "\u001b[1m31/31\u001b[0m \u001b[32m━━━━━━━━━━━━━━━━━━━━\u001b[0m\u001b[37m\u001b[0m \u001b[1m0s\u001b[0m 4ms/step - loss: 1.6573 - mae: 0.6181 - val_loss: 1.4395 - val_mae: 0.4490 - learning_rate: 0.0010\n",
            "Epoch 32/200\n",
            "\u001b[1m31/31\u001b[0m \u001b[32m━━━━━━━━━━━━━━━━━━━━\u001b[0m\u001b[37m\u001b[0m \u001b[1m0s\u001b[0m 6ms/step - loss: 1.6972 - mae: 0.6132 - val_loss: 1.4707 - val_mae: 0.4543 - learning_rate: 0.0010\n",
            "Epoch 33/200\n",
            "\u001b[1m31/31\u001b[0m \u001b[32m━━━━━━━━━━━━━━━━━━━━\u001b[0m\u001b[37m\u001b[0m \u001b[1m0s\u001b[0m 6ms/step - loss: 1.6550 - mae: 0.5939 - val_loss: 1.3158 - val_mae: 0.4001 - learning_rate: 5.0000e-04\n",
            "Epoch 34/200\n",
            "\u001b[1m31/31\u001b[0m \u001b[32m━━━━━━━━━━━━━━━━━━━━\u001b[0m\u001b[37m\u001b[0m \u001b[1m0s\u001b[0m 5ms/step - loss: 1.5775 - mae: 0.5645 - val_loss: 1.3094 - val_mae: 0.3983 - learning_rate: 5.0000e-04\n",
            "Epoch 35/200\n",
            "\u001b[1m31/31\u001b[0m \u001b[32m━━━━━━━━━━━━━━━━━━━━\u001b[0m\u001b[37m\u001b[0m \u001b[1m0s\u001b[0m 6ms/step - loss: 1.6555 - mae: 0.6341 - val_loss: 1.2962 - val_mae: 0.3945 - learning_rate: 5.0000e-04\n",
            "Epoch 36/200\n",
            "\u001b[1m31/31\u001b[0m \u001b[32m━━━━━━━━━━━━━━━━━━━━\u001b[0m\u001b[37m\u001b[0m \u001b[1m0s\u001b[0m 6ms/step - loss: 1.6066 - mae: 0.6006 - val_loss: 1.2888 - val_mae: 0.3858 - learning_rate: 5.0000e-04\n",
            "Epoch 37/200\n",
            "\u001b[1m31/31\u001b[0m \u001b[32m━━━━━━━━━━━━━━━━━━━━\u001b[0m\u001b[37m\u001b[0m \u001b[1m0s\u001b[0m 6ms/step - loss: 1.5843 - mae: 0.5645 - val_loss: 1.3181 - val_mae: 0.3982 - learning_rate: 5.0000e-04\n",
            "Epoch 38/200\n",
            "\u001b[1m31/31\u001b[0m \u001b[32m━━━━━━━━━━━━━━━━━━━━\u001b[0m\u001b[37m\u001b[0m \u001b[1m0s\u001b[0m 5ms/step - loss: 1.6919 - mae: 0.6185 - val_loss: 1.2991 - val_mae: 0.3783 - learning_rate: 5.0000e-04\n",
            "Epoch 39/200\n",
            "\u001b[1m31/31\u001b[0m \u001b[32m━━━━━━━━━━━━━━━━━━━━\u001b[0m\u001b[37m\u001b[0m \u001b[1m0s\u001b[0m 4ms/step - loss: 1.5185 - mae: 0.5544 - val_loss: 1.3198 - val_mae: 0.4089 - learning_rate: 5.0000e-04\n",
            "Epoch 40/200\n",
            "\u001b[1m31/31\u001b[0m \u001b[32m━━━━━━━━━━━━━━━━━━━━\u001b[0m\u001b[37m\u001b[0m \u001b[1m0s\u001b[0m 4ms/step - loss: 1.5108 - mae: 0.5273 - val_loss: 1.2909 - val_mae: 0.3958 - learning_rate: 5.0000e-04\n",
            "Epoch 41/200\n",
            "\u001b[1m31/31\u001b[0m \u001b[32m━━━━━━━━━━━━━━━━━━━━\u001b[0m\u001b[37m\u001b[0m \u001b[1m0s\u001b[0m 4ms/step - loss: 1.5861 - mae: 0.5821 - val_loss: 1.2460 - val_mae: 0.3683 - learning_rate: 5.0000e-04\n",
            "Epoch 42/200\n",
            "\u001b[1m31/31\u001b[0m \u001b[32m━━━━━━━━━━━━━━━━━━━━\u001b[0m\u001b[37m\u001b[0m \u001b[1m0s\u001b[0m 4ms/step - loss: 1.5626 - mae: 0.5737 - val_loss: 1.3326 - val_mae: 0.4059 - learning_rate: 5.0000e-04\n",
            "Epoch 43/200\n",
            "\u001b[1m31/31\u001b[0m \u001b[32m━━━━━━━━━━━━━━━━━━━━\u001b[0m\u001b[37m\u001b[0m \u001b[1m0s\u001b[0m 4ms/step - loss: 1.5449 - mae: 0.5788 - val_loss: 1.3244 - val_mae: 0.4100 - learning_rate: 5.0000e-04\n",
            "Epoch 44/200\n",
            "\u001b[1m31/31\u001b[0m \u001b[32m━━━━━━━━━━━━━━━━━━━━\u001b[0m\u001b[37m\u001b[0m \u001b[1m0s\u001b[0m 4ms/step - loss: 1.5354 - mae: 0.5671 - val_loss: 1.2748 - val_mae: 0.3832 - learning_rate: 5.0000e-04\n",
            "Epoch 45/200\n",
            "\u001b[1m31/31\u001b[0m \u001b[32m━━━━━━━━━━━━━━━━━━━━\u001b[0m\u001b[37m\u001b[0m \u001b[1m0s\u001b[0m 5ms/step - loss: 1.5272 - mae: 0.5770 - val_loss: 1.2588 - val_mae: 0.3757 - learning_rate: 5.0000e-04\n",
            "Epoch 46/200\n",
            "\u001b[1m31/31\u001b[0m \u001b[32m━━━━━━━━━━━━━━━━━━━━\u001b[0m\u001b[37m\u001b[0m \u001b[1m0s\u001b[0m 8ms/step - loss: 1.5162 - mae: 0.5557 - val_loss: 1.2193 - val_mae: 0.3711 - learning_rate: 5.0000e-04\n",
            "Epoch 47/200\n",
            "\u001b[1m31/31\u001b[0m \u001b[32m━━━━━━━━━━━━━━━━━━━━\u001b[0m\u001b[37m\u001b[0m \u001b[1m0s\u001b[0m 6ms/step - loss: 1.5165 - mae: 0.5548 - val_loss: 1.2479 - val_mae: 0.3846 - learning_rate: 5.0000e-04\n",
            "Epoch 48/200\n",
            "\u001b[1m31/31\u001b[0m \u001b[32m━━━━━━━━━━━━━━━━━━━━\u001b[0m\u001b[37m\u001b[0m \u001b[1m0s\u001b[0m 6ms/step - loss: 1.4294 - mae: 0.5209 - val_loss: 1.2574 - val_mae: 0.3833 - learning_rate: 5.0000e-04\n",
            "Epoch 49/200\n",
            "\u001b[1m31/31\u001b[0m \u001b[32m━━━━━━━━━━━━━━━━━━━━\u001b[0m\u001b[37m\u001b[0m \u001b[1m0s\u001b[0m 6ms/step - loss: 1.4456 - mae: 0.5409 - val_loss: 1.1910 - val_mae: 0.3511 - learning_rate: 5.0000e-04\n",
            "Epoch 50/200\n",
            "\u001b[1m31/31\u001b[0m \u001b[32m━━━━━━━━━━━━━━━━━━━━\u001b[0m\u001b[37m\u001b[0m \u001b[1m0s\u001b[0m 6ms/step - loss: 1.4807 - mae: 0.5598 - val_loss: 1.2422 - val_mae: 0.3902 - learning_rate: 5.0000e-04\n",
            "Epoch 51/200\n",
            "\u001b[1m31/31\u001b[0m \u001b[32m━━━━━━━━━━━━━━━━━━━━\u001b[0m\u001b[37m\u001b[0m \u001b[1m0s\u001b[0m 6ms/step - loss: 1.3946 - mae: 0.5067 - val_loss: 1.1812 - val_mae: 0.3552 - learning_rate: 5.0000e-04\n",
            "Epoch 52/200\n",
            "\u001b[1m31/31\u001b[0m \u001b[32m━━━━━━━━━━━━━━━━━━━━\u001b[0m\u001b[37m\u001b[0m \u001b[1m0s\u001b[0m 6ms/step - loss: 1.4163 - mae: 0.5163 - val_loss: 1.1721 - val_mae: 0.3465 - learning_rate: 5.0000e-04\n",
            "Epoch 53/200\n",
            "\u001b[1m31/31\u001b[0m \u001b[32m━━━━━━━━━━━━━━━━━━━━\u001b[0m\u001b[37m\u001b[0m \u001b[1m0s\u001b[0m 6ms/step - loss: 1.4162 - mae: 0.5051 - val_loss: 1.1422 - val_mae: 0.3260 - learning_rate: 5.0000e-04\n",
            "Epoch 54/200\n",
            "\u001b[1m31/31\u001b[0m \u001b[32m━━━━━━━━━━━━━━━━━━━━\u001b[0m\u001b[37m\u001b[0m \u001b[1m0s\u001b[0m 6ms/step - loss: 1.3949 - mae: 0.5149 - val_loss: 1.1609 - val_mae: 0.3442 - learning_rate: 5.0000e-04\n",
            "Epoch 55/200\n",
            "\u001b[1m31/31\u001b[0m \u001b[32m━━━━━━━━━━━━━━━━━━━━\u001b[0m\u001b[37m\u001b[0m \u001b[1m0s\u001b[0m 7ms/step - loss: 1.3636 - mae: 0.4982 - val_loss: 1.1805 - val_mae: 0.3626 - learning_rate: 5.0000e-04\n",
            "Epoch 56/200\n",
            "\u001b[1m31/31\u001b[0m \u001b[32m━━━━━━━━━━━━━━━━━━━━\u001b[0m\u001b[37m\u001b[0m \u001b[1m0s\u001b[0m 6ms/step - loss: 1.4119 - mae: 0.5238 - val_loss: 1.1455 - val_mae: 0.3207 - learning_rate: 5.0000e-04\n",
            "Epoch 57/200\n",
            "\u001b[1m31/31\u001b[0m \u001b[32m━━━━━━━━━━━━━━━━━━━━\u001b[0m\u001b[37m\u001b[0m \u001b[1m0s\u001b[0m 4ms/step - loss: 1.4780 - mae: 0.5717 - val_loss: 1.1469 - val_mae: 0.3367 - learning_rate: 5.0000e-04\n",
            "Epoch 58/200\n",
            "\u001b[1m31/31\u001b[0m \u001b[32m━━━━━━━━━━━━━━━━━━━━\u001b[0m\u001b[37m\u001b[0m \u001b[1m0s\u001b[0m 4ms/step - loss: 1.3978 - mae: 0.5252 - val_loss: 1.1332 - val_mae: 0.3369 - learning_rate: 5.0000e-04\n",
            "Epoch 59/200\n",
            "\u001b[1m31/31\u001b[0m \u001b[32m━━━━━━━━━━━━━━━━━━━━\u001b[0m\u001b[37m\u001b[0m \u001b[1m0s\u001b[0m 4ms/step - loss: 1.3871 - mae: 0.5275 - val_loss: 1.1303 - val_mae: 0.3290 - learning_rate: 5.0000e-04\n",
            "Epoch 60/200\n",
            "\u001b[1m31/31\u001b[0m \u001b[32m━━━━━━━━━━━━━━━━━━━━\u001b[0m\u001b[37m\u001b[0m \u001b[1m0s\u001b[0m 4ms/step - loss: 1.3430 - mae: 0.4957 - val_loss: 1.1261 - val_mae: 0.3326 - learning_rate: 5.0000e-04\n",
            "Epoch 61/200\n",
            "\u001b[1m31/31\u001b[0m \u001b[32m━━━━━━━━━━━━━━━━━━━━\u001b[0m\u001b[37m\u001b[0m \u001b[1m0s\u001b[0m 4ms/step - loss: 1.3301 - mae: 0.4957 - val_loss: 1.1214 - val_mae: 0.3285 - learning_rate: 5.0000e-04\n",
            "Epoch 62/200\n",
            "\u001b[1m31/31\u001b[0m \u001b[32m━━━━━━━━━━━━━━━━━━━━\u001b[0m\u001b[37m\u001b[0m \u001b[1m0s\u001b[0m 4ms/step - loss: 1.2954 - mae: 0.4759 - val_loss: 1.1112 - val_mae: 0.3225 - learning_rate: 5.0000e-04\n",
            "Epoch 63/200\n",
            "\u001b[1m31/31\u001b[0m \u001b[32m━━━━━━━━━━━━━━━━━━━━\u001b[0m\u001b[37m\u001b[0m \u001b[1m0s\u001b[0m 4ms/step - loss: 1.2530 - mae: 0.4477 - val_loss: 1.1212 - val_mae: 0.3319 - learning_rate: 5.0000e-04\n",
            "Epoch 64/200\n",
            "\u001b[1m31/31\u001b[0m \u001b[32m━━━━━━━━━━━━━━━━━━━━\u001b[0m\u001b[37m\u001b[0m \u001b[1m0s\u001b[0m 4ms/step - loss: 1.3210 - mae: 0.4844 - val_loss: 1.1445 - val_mae: 0.3466 - learning_rate: 5.0000e-04\n",
            "Epoch 65/200\n",
            "\u001b[1m31/31\u001b[0m \u001b[32m━━━━━━━━━━━━━━━━━━━━\u001b[0m\u001b[37m\u001b[0m \u001b[1m0s\u001b[0m 3ms/step - loss: 1.3601 - mae: 0.5092 - val_loss: 1.0883 - val_mae: 0.3154 - learning_rate: 5.0000e-04\n",
            "Epoch 66/200\n",
            "\u001b[1m31/31\u001b[0m \u001b[32m━━━━━━━━━━━━━━━━━━━━\u001b[0m\u001b[37m\u001b[0m \u001b[1m0s\u001b[0m 4ms/step - loss: 1.2739 - mae: 0.4495 - val_loss: 1.0782 - val_mae: 0.3022 - learning_rate: 5.0000e-04\n",
            "Epoch 67/200\n",
            "\u001b[1m31/31\u001b[0m \u001b[32m━━━━━━━━━━━━━━━━━━━━\u001b[0m\u001b[37m\u001b[0m \u001b[1m0s\u001b[0m 4ms/step - loss: 1.2687 - mae: 0.4584 - val_loss: 1.0976 - val_mae: 0.3165 - learning_rate: 5.0000e-04\n",
            "Epoch 68/200\n",
            "\u001b[1m31/31\u001b[0m \u001b[32m━━━━━━━━━━━━━━━━━━━━\u001b[0m\u001b[37m\u001b[0m \u001b[1m0s\u001b[0m 3ms/step - loss: 1.2147 - mae: 0.4466 - val_loss: 1.0634 - val_mae: 0.3066 - learning_rate: 5.0000e-04\n",
            "Epoch 69/200\n",
            "\u001b[1m31/31\u001b[0m \u001b[32m━━━━━━━━━━━━━━━━━━━━\u001b[0m\u001b[37m\u001b[0m \u001b[1m0s\u001b[0m 3ms/step - loss: 1.2771 - mae: 0.4692 - val_loss: 1.0741 - val_mae: 0.3193 - learning_rate: 5.0000e-04\n",
            "Epoch 70/200\n",
            "\u001b[1m31/31\u001b[0m \u001b[32m━━━━━━━━━━━━━━━━━━━━\u001b[0m\u001b[37m\u001b[0m \u001b[1m0s\u001b[0m 4ms/step - loss: 1.2336 - mae: 0.4525 - val_loss: 1.0482 - val_mae: 0.3043 - learning_rate: 5.0000e-04\n",
            "Epoch 71/200\n",
            "\u001b[1m31/31\u001b[0m \u001b[32m━━━━━━━━━━━━━━━━━━━━\u001b[0m\u001b[37m\u001b[0m \u001b[1m0s\u001b[0m 4ms/step - loss: 1.2220 - mae: 0.4481 - val_loss: 1.0528 - val_mae: 0.3180 - learning_rate: 5.0000e-04\n",
            "Epoch 72/200\n",
            "\u001b[1m31/31\u001b[0m \u001b[32m━━━━━━━━━━━━━━━━━━━━\u001b[0m\u001b[37m\u001b[0m \u001b[1m0s\u001b[0m 3ms/step - loss: 1.2063 - mae: 0.4266 - val_loss: 1.0564 - val_mae: 0.3141 - learning_rate: 5.0000e-04\n",
            "Epoch 73/200\n",
            "\u001b[1m31/31\u001b[0m \u001b[32m━━━━━━━━━━━━━━━━━━━━\u001b[0m\u001b[37m\u001b[0m \u001b[1m0s\u001b[0m 4ms/step - loss: 1.2467 - mae: 0.4785 - val_loss: 1.0398 - val_mae: 0.3154 - learning_rate: 5.0000e-04\n",
            "Epoch 74/200\n",
            "\u001b[1m31/31\u001b[0m \u001b[32m━━━━━━━━━━━━━━━━━━━━\u001b[0m\u001b[37m\u001b[0m \u001b[1m0s\u001b[0m 4ms/step - loss: 1.1812 - mae: 0.4233 - val_loss: 1.0396 - val_mae: 0.3189 - learning_rate: 5.0000e-04\n",
            "Epoch 75/200\n",
            "\u001b[1m31/31\u001b[0m \u001b[32m━━━━━━━━━━━━━━━━━━━━\u001b[0m\u001b[37m\u001b[0m \u001b[1m0s\u001b[0m 4ms/step - loss: 1.2129 - mae: 0.4558 - val_loss: 1.0251 - val_mae: 0.3082 - learning_rate: 5.0000e-04\n",
            "Epoch 76/200\n",
            "\u001b[1m31/31\u001b[0m \u001b[32m━━━━━━━━━━━━━━━━━━━━\u001b[0m\u001b[37m\u001b[0m \u001b[1m0s\u001b[0m 3ms/step - loss: 1.2189 - mae: 0.4442 - val_loss: 1.0178 - val_mae: 0.3199 - learning_rate: 5.0000e-04\n",
            "Epoch 77/200\n",
            "\u001b[1m31/31\u001b[0m \u001b[32m━━━━━━━━━━━━━━━━━━━━\u001b[0m\u001b[37m\u001b[0m \u001b[1m0s\u001b[0m 3ms/step - loss: 1.1640 - mae: 0.4264 - val_loss: 1.0494 - val_mae: 0.3343 - learning_rate: 5.0000e-04\n",
            "Epoch 78/200\n",
            "\u001b[1m31/31\u001b[0m \u001b[32m━━━━━━━━━━━━━━━━━━━━\u001b[0m\u001b[37m\u001b[0m \u001b[1m0s\u001b[0m 4ms/step - loss: 1.2025 - mae: 0.4614 - val_loss: 1.0245 - val_mae: 0.3196 - learning_rate: 5.0000e-04\n",
            "Epoch 79/200\n",
            "\u001b[1m31/31\u001b[0m \u001b[32m━━━━━━━━━━━━━━━━━━━━\u001b[0m\u001b[37m\u001b[0m \u001b[1m0s\u001b[0m 4ms/step - loss: 1.2234 - mae: 0.4833 - val_loss: 1.0056 - val_mae: 0.3001 - learning_rate: 5.0000e-04\n",
            "Epoch 80/200\n",
            "\u001b[1m31/31\u001b[0m \u001b[32m━━━━━━━━━━━━━━━━━━━━\u001b[0m\u001b[37m\u001b[0m \u001b[1m0s\u001b[0m 6ms/step - loss: 1.1979 - mae: 0.4568 - val_loss: 1.0265 - val_mae: 0.3216 - learning_rate: 5.0000e-04\n",
            "Epoch 81/200\n",
            "\u001b[1m31/31\u001b[0m \u001b[32m━━━━━━━━━━━━━━━━━━━━\u001b[0m\u001b[37m\u001b[0m \u001b[1m0s\u001b[0m 5ms/step - loss: 1.1896 - mae: 0.4564 - val_loss: 0.9943 - val_mae: 0.3077 - learning_rate: 5.0000e-04\n",
            "Epoch 82/200\n",
            "\u001b[1m31/31\u001b[0m \u001b[32m━━━━━━━━━━━━━━━━━━━━\u001b[0m\u001b[37m\u001b[0m \u001b[1m0s\u001b[0m 5ms/step - loss: 1.1509 - mae: 0.4433 - val_loss: 1.0031 - val_mae: 0.3128 - learning_rate: 5.0000e-04\n",
            "Epoch 83/200\n",
            "\u001b[1m31/31\u001b[0m \u001b[32m━━━━━━━━━━━━━━━━━━━━\u001b[0m\u001b[37m\u001b[0m \u001b[1m0s\u001b[0m 6ms/step - loss: 1.1315 - mae: 0.4436 - val_loss: 0.9811 - val_mae: 0.3045 - learning_rate: 5.0000e-04\n",
            "Epoch 84/200\n",
            "\u001b[1m31/31\u001b[0m \u001b[32m━━━━━━━━━━━━━━━━━━━━\u001b[0m\u001b[37m\u001b[0m \u001b[1m0s\u001b[0m 4ms/step - loss: 1.1749 - mae: 0.4702 - val_loss: 0.9581 - val_mae: 0.2925 - learning_rate: 5.0000e-04\n",
            "Epoch 85/200\n",
            "\u001b[1m31/31\u001b[0m \u001b[32m━━━━━━━━━━━━━━━━━━━━\u001b[0m\u001b[37m\u001b[0m \u001b[1m0s\u001b[0m 4ms/step - loss: 1.0941 - mae: 0.4087 - val_loss: 0.9608 - val_mae: 0.2885 - learning_rate: 5.0000e-04\n",
            "Epoch 86/200\n",
            "\u001b[1m31/31\u001b[0m \u001b[32m━━━━━━━━━━━━━━━━━━━━\u001b[0m\u001b[37m\u001b[0m \u001b[1m0s\u001b[0m 4ms/step - loss: 1.1433 - mae: 0.4253 - val_loss: 0.9768 - val_mae: 0.3145 - learning_rate: 5.0000e-04\n",
            "Epoch 87/200\n",
            "\u001b[1m31/31\u001b[0m \u001b[32m━━━━━━━━━━━━━━━━━━━━\u001b[0m\u001b[37m\u001b[0m \u001b[1m0s\u001b[0m 4ms/step - loss: 1.1390 - mae: 0.4424 - val_loss: 0.9534 - val_mae: 0.2947 - learning_rate: 5.0000e-04\n",
            "Epoch 88/200\n",
            "\u001b[1m31/31\u001b[0m \u001b[32m━━━━━━━━━━━━━━━━━━━━\u001b[0m\u001b[37m\u001b[0m \u001b[1m0s\u001b[0m 4ms/step - loss: 1.0645 - mae: 0.3893 - val_loss: 0.9382 - val_mae: 0.2921 - learning_rate: 5.0000e-04\n",
            "Epoch 89/200\n",
            "\u001b[1m31/31\u001b[0m \u001b[32m━━━━━━━━━━━━━━━━━━━━\u001b[0m\u001b[37m\u001b[0m \u001b[1m0s\u001b[0m 7ms/step - loss: 1.1076 - mae: 0.4332 - val_loss: 0.9398 - val_mae: 0.2923 - learning_rate: 5.0000e-04\n",
            "Epoch 90/200\n",
            "\u001b[1m31/31\u001b[0m \u001b[32m━━━━━━━━━━━━━━━━━━━━\u001b[0m\u001b[37m\u001b[0m \u001b[1m0s\u001b[0m 4ms/step - loss: 1.0894 - mae: 0.4177 - val_loss: 0.9205 - val_mae: 0.2839 - learning_rate: 5.0000e-04\n",
            "Epoch 91/200\n",
            "\u001b[1m31/31\u001b[0m \u001b[32m━━━━━━━━━━━━━━━━━━━━\u001b[0m\u001b[37m\u001b[0m \u001b[1m0s\u001b[0m 5ms/step - loss: 1.0761 - mae: 0.4145 - val_loss: 0.9095 - val_mae: 0.2770 - learning_rate: 5.0000e-04\n",
            "Epoch 92/200\n",
            "\u001b[1m31/31\u001b[0m \u001b[32m━━━━━━━━━━━━━━━━━━━━\u001b[0m\u001b[37m\u001b[0m \u001b[1m0s\u001b[0m 4ms/step - loss: 1.0610 - mae: 0.4075 - val_loss: 0.9404 - val_mae: 0.3152 - learning_rate: 5.0000e-04\n",
            "Epoch 93/200\n",
            "\u001b[1m31/31\u001b[0m \u001b[32m━━━━━━━━━━━━━━━━━━━━\u001b[0m\u001b[37m\u001b[0m \u001b[1m0s\u001b[0m 5ms/step - loss: 1.0234 - mae: 0.3822 - val_loss: 0.9257 - val_mae: 0.3081 - learning_rate: 5.0000e-04\n",
            "Epoch 94/200\n",
            "\u001b[1m31/31\u001b[0m \u001b[32m━━━━━━━━━━━━━━━━━━━━\u001b[0m\u001b[37m\u001b[0m \u001b[1m0s\u001b[0m 5ms/step - loss: 1.0675 - mae: 0.4108 - val_loss: 0.9082 - val_mae: 0.2871 - learning_rate: 5.0000e-04\n",
            "Epoch 95/200\n",
            "\u001b[1m31/31\u001b[0m \u001b[32m━━━━━━━━━━━━━━━━━━━━\u001b[0m\u001b[37m\u001b[0m \u001b[1m0s\u001b[0m 4ms/step - loss: 1.0631 - mae: 0.4268 - val_loss: 0.8934 - val_mae: 0.2750 - learning_rate: 5.0000e-04\n",
            "Epoch 96/200\n",
            "\u001b[1m31/31\u001b[0m \u001b[32m━━━━━━━━━━━━━━━━━━━━\u001b[0m\u001b[37m\u001b[0m \u001b[1m0s\u001b[0m 4ms/step - loss: 1.0911 - mae: 0.4489 - val_loss: 0.8822 - val_mae: 0.2701 - learning_rate: 5.0000e-04\n",
            "Epoch 97/200\n",
            "\u001b[1m31/31\u001b[0m \u001b[32m━━━━━━━━━━━━━━━━━━━━\u001b[0m\u001b[37m\u001b[0m \u001b[1m0s\u001b[0m 4ms/step - loss: 1.0210 - mae: 0.3939 - val_loss: 0.8793 - val_mae: 0.2848 - learning_rate: 5.0000e-04\n",
            "Epoch 98/200\n",
            "\u001b[1m31/31\u001b[0m \u001b[32m━━━━━━━━━━━━━━━━━━━━\u001b[0m\u001b[37m\u001b[0m \u001b[1m0s\u001b[0m 5ms/step - loss: 1.0100 - mae: 0.3887 - val_loss: 0.8740 - val_mae: 0.2792 - learning_rate: 5.0000e-04\n",
            "Epoch 99/200\n",
            "\u001b[1m31/31\u001b[0m \u001b[32m━━━━━━━━━━━━━━━━━━━━\u001b[0m\u001b[37m\u001b[0m \u001b[1m0s\u001b[0m 4ms/step - loss: 1.0288 - mae: 0.4171 - val_loss: 0.8596 - val_mae: 0.2729 - learning_rate: 5.0000e-04\n",
            "Epoch 100/200\n",
            "\u001b[1m31/31\u001b[0m \u001b[32m━━━━━━━━━━━━━━━━━━━━\u001b[0m\u001b[37m\u001b[0m \u001b[1m0s\u001b[0m 4ms/step - loss: 1.0953 - mae: 0.4734 - val_loss: 0.8577 - val_mae: 0.2702 - learning_rate: 5.0000e-04\n",
            "Epoch 101/200\n",
            "\u001b[1m31/31\u001b[0m \u001b[32m━━━━━━━━━━━━━━━━━━━━\u001b[0m\u001b[37m\u001b[0m \u001b[1m0s\u001b[0m 4ms/step - loss: 1.0221 - mae: 0.4284 - val_loss: 0.8607 - val_mae: 0.2818 - learning_rate: 5.0000e-04\n",
            "Epoch 102/200\n",
            "\u001b[1m31/31\u001b[0m \u001b[32m━━━━━━━━━━━━━━━━━━━━\u001b[0m\u001b[37m\u001b[0m \u001b[1m0s\u001b[0m 4ms/step - loss: 0.9674 - mae: 0.3802 - val_loss: 0.8510 - val_mae: 0.2826 - learning_rate: 5.0000e-04\n",
            "Epoch 103/200\n",
            "\u001b[1m31/31\u001b[0m \u001b[32m━━━━━━━━━━━━━━━━━━━━\u001b[0m\u001b[37m\u001b[0m \u001b[1m0s\u001b[0m 4ms/step - loss: 1.0096 - mae: 0.4271 - val_loss: 0.8417 - val_mae: 0.2780 - learning_rate: 5.0000e-04\n",
            "Epoch 104/200\n",
            "\u001b[1m31/31\u001b[0m \u001b[32m━━━━━━━━━━━━━━━━━━━━\u001b[0m\u001b[37m\u001b[0m \u001b[1m0s\u001b[0m 4ms/step - loss: 0.9556 - mae: 0.3676 - val_loss: 0.8305 - val_mae: 0.2745 - learning_rate: 5.0000e-04\n",
            "Epoch 105/200\n",
            "\u001b[1m31/31\u001b[0m \u001b[32m━━━━━━━━━━━━━━━━━━━━\u001b[0m\u001b[37m\u001b[0m \u001b[1m0s\u001b[0m 4ms/step - loss: 0.9423 - mae: 0.3721 - val_loss: 0.8164 - val_mae: 0.2538 - learning_rate: 5.0000e-04\n",
            "Epoch 106/200\n",
            "\u001b[1m31/31\u001b[0m \u001b[32m━━━━━━━━━━━━━━━━━━━━\u001b[0m\u001b[37m\u001b[0m \u001b[1m0s\u001b[0m 6ms/step - loss: 0.9805 - mae: 0.4092 - val_loss: 0.8209 - val_mae: 0.2661 - learning_rate: 5.0000e-04\n",
            "Epoch 107/200\n",
            "\u001b[1m31/31\u001b[0m \u001b[32m━━━━━━━━━━━━━━━━━━━━\u001b[0m\u001b[37m\u001b[0m \u001b[1m0s\u001b[0m 6ms/step - loss: 0.9640 - mae: 0.3803 - val_loss: 0.8065 - val_mae: 0.2565 - learning_rate: 5.0000e-04\n",
            "Epoch 108/200\n",
            "\u001b[1m31/31\u001b[0m \u001b[32m━━━━━━━━━━━━━━━━━━━━\u001b[0m\u001b[37m\u001b[0m \u001b[1m0s\u001b[0m 6ms/step - loss: 0.9221 - mae: 0.3575 - val_loss: 0.8125 - val_mae: 0.2718 - learning_rate: 5.0000e-04\n",
            "Epoch 109/200\n",
            "\u001b[1m31/31\u001b[0m \u001b[32m━━━━━━━━━━━━━━━━━━━━\u001b[0m\u001b[37m\u001b[0m \u001b[1m0s\u001b[0m 6ms/step - loss: 0.9543 - mae: 0.4017 - val_loss: 0.7968 - val_mae: 0.2598 - learning_rate: 5.0000e-04\n",
            "Epoch 110/200\n",
            "\u001b[1m31/31\u001b[0m \u001b[32m━━━━━━━━━━━━━━━━━━━━\u001b[0m\u001b[37m\u001b[0m \u001b[1m0s\u001b[0m 6ms/step - loss: 0.9410 - mae: 0.3962 - val_loss: 0.8034 - val_mae: 0.2831 - learning_rate: 5.0000e-04\n",
            "Epoch 111/200\n",
            "\u001b[1m31/31\u001b[0m \u001b[32m━━━━━━━━━━━━━━━━━━━━\u001b[0m\u001b[37m\u001b[0m \u001b[1m0s\u001b[0m 11ms/step - loss: 0.9478 - mae: 0.3894 - val_loss: 0.8041 - val_mae: 0.2822 - learning_rate: 5.0000e-04\n",
            "Epoch 112/200\n",
            "\u001b[1m31/31\u001b[0m \u001b[32m━━━━━━━━━━━━━━━━━━━━\u001b[0m\u001b[37m\u001b[0m \u001b[1m1s\u001b[0m 7ms/step - loss: 0.8883 - mae: 0.3577 - val_loss: 0.7802 - val_mae: 0.2575 - learning_rate: 5.0000e-04\n",
            "Epoch 113/200\n",
            "\u001b[1m31/31\u001b[0m \u001b[32m━━━━━━━━━━━━━━━━━━━━\u001b[0m\u001b[37m\u001b[0m \u001b[1m0s\u001b[0m 11ms/step - loss: 0.9338 - mae: 0.4002 - val_loss: 0.7808 - val_mae: 0.2639 - learning_rate: 5.0000e-04\n",
            "Epoch 114/200\n",
            "\u001b[1m31/31\u001b[0m \u001b[32m━━━━━━━━━━━━━━━━━━━━\u001b[0m\u001b[37m\u001b[0m \u001b[1m0s\u001b[0m 5ms/step - loss: 0.9103 - mae: 0.3904 - val_loss: 0.7765 - val_mae: 0.2659 - learning_rate: 5.0000e-04\n",
            "Epoch 115/200\n",
            "\u001b[1m31/31\u001b[0m \u001b[32m━━━━━━━━━━━━━━━━━━━━\u001b[0m\u001b[37m\u001b[0m \u001b[1m0s\u001b[0m 5ms/step - loss: 0.8999 - mae: 0.3747 - val_loss: 0.7650 - val_mae: 0.2630 - learning_rate: 5.0000e-04\n",
            "Epoch 116/200\n",
            "\u001b[1m31/31\u001b[0m \u001b[32m━━━━━━━━━━━━━━━━━━━━\u001b[0m\u001b[37m\u001b[0m \u001b[1m0s\u001b[0m 5ms/step - loss: 0.9129 - mae: 0.4002 - val_loss: 0.7616 - val_mae: 0.2587 - learning_rate: 5.0000e-04\n",
            "Epoch 117/200\n",
            "\u001b[1m31/31\u001b[0m \u001b[32m━━━━━━━━━━━━━━━━━━━━\u001b[0m\u001b[37m\u001b[0m \u001b[1m0s\u001b[0m 4ms/step - loss: 0.8812 - mae: 0.3640 - val_loss: 0.7596 - val_mae: 0.2672 - learning_rate: 5.0000e-04\n",
            "Epoch 118/200\n",
            "\u001b[1m31/31\u001b[0m \u001b[32m━━━━━━━━━━━━━━━━━━━━\u001b[0m\u001b[37m\u001b[0m \u001b[1m0s\u001b[0m 4ms/step - loss: 0.8500 - mae: 0.3473 - val_loss: 0.7421 - val_mae: 0.2500 - learning_rate: 5.0000e-04\n",
            "Epoch 119/200\n",
            "\u001b[1m31/31\u001b[0m \u001b[32m━━━━━━━━━━━━━━━━━━━━\u001b[0m\u001b[37m\u001b[0m \u001b[1m0s\u001b[0m 4ms/step - loss: 0.8575 - mae: 0.3662 - val_loss: 0.7405 - val_mae: 0.2541 - learning_rate: 5.0000e-04\n",
            "Epoch 120/200\n",
            "\u001b[1m31/31\u001b[0m \u001b[32m━━━━━━━━━━━━━━━━━━━━\u001b[0m\u001b[37m\u001b[0m \u001b[1m0s\u001b[0m 5ms/step - loss: 0.8656 - mae: 0.3747 - val_loss: 0.7388 - val_mae: 0.2614 - learning_rate: 5.0000e-04\n",
            "Epoch 121/200\n",
            "\u001b[1m31/31\u001b[0m \u001b[32m━━━━━━━━━━━━━━━━━━━━\u001b[0m\u001b[37m\u001b[0m \u001b[1m0s\u001b[0m 6ms/step - loss: 0.8445 - mae: 0.3722 - val_loss: 0.7474 - val_mae: 0.2678 - learning_rate: 5.0000e-04\n",
            "Epoch 122/200\n",
            "\u001b[1m31/31\u001b[0m \u001b[32m━━━━━━━━━━━━━━━━━━━━\u001b[0m\u001b[37m\u001b[0m \u001b[1m0s\u001b[0m 5ms/step - loss: 0.8749 - mae: 0.3886 - val_loss: 0.7196 - val_mae: 0.2541 - learning_rate: 5.0000e-04\n",
            "Epoch 123/200\n",
            "\u001b[1m31/31\u001b[0m \u001b[32m━━━━━━━━━━━━━━━━━━━━\u001b[0m\u001b[37m\u001b[0m \u001b[1m0s\u001b[0m 4ms/step - loss: 0.8449 - mae: 0.3724 - val_loss: 0.7167 - val_mae: 0.2514 - learning_rate: 5.0000e-04\n",
            "Epoch 124/200\n",
            "\u001b[1m31/31\u001b[0m \u001b[32m━━━━━━━━━━━━━━━━━━━━\u001b[0m\u001b[37m\u001b[0m \u001b[1m0s\u001b[0m 5ms/step - loss: 0.8421 - mae: 0.3647 - val_loss: 0.7011 - val_mae: 0.2402 - learning_rate: 5.0000e-04\n",
            "Epoch 125/200\n",
            "\u001b[1m31/31\u001b[0m \u001b[32m━━━━━━━━━━━━━━━━━━━━\u001b[0m\u001b[37m\u001b[0m \u001b[1m0s\u001b[0m 5ms/step - loss: 0.8367 - mae: 0.3762 - val_loss: 0.7134 - val_mae: 0.2575 - learning_rate: 5.0000e-04\n",
            "Epoch 126/200\n",
            "\u001b[1m31/31\u001b[0m \u001b[32m━━━━━━━━━━━━━━━━━━━━\u001b[0m\u001b[37m\u001b[0m \u001b[1m0s\u001b[0m 5ms/step - loss: 0.8306 - mae: 0.3745 - val_loss: 0.6981 - val_mae: 0.2415 - learning_rate: 5.0000e-04\n",
            "Epoch 127/200\n",
            "\u001b[1m31/31\u001b[0m \u001b[32m━━━━━━━━━━━━━━━━━━━━\u001b[0m\u001b[37m\u001b[0m \u001b[1m0s\u001b[0m 5ms/step - loss: 0.7814 - mae: 0.3324 - val_loss: 0.7131 - val_mae: 0.2699 - learning_rate: 5.0000e-04\n",
            "Epoch 128/200\n",
            "\u001b[1m31/31\u001b[0m \u001b[32m━━━━━━━━━━━━━━━━━━━━\u001b[0m\u001b[37m\u001b[0m \u001b[1m0s\u001b[0m 6ms/step - loss: 0.7800 - mae: 0.3485 - val_loss: 0.6907 - val_mae: 0.2512 - learning_rate: 5.0000e-04\n",
            "Epoch 129/200\n",
            "\u001b[1m31/31\u001b[0m \u001b[32m━━━━━━━━━━━━━━━━━━━━\u001b[0m\u001b[37m\u001b[0m \u001b[1m0s\u001b[0m 4ms/step - loss: 0.7705 - mae: 0.3256 - val_loss: 0.6926 - val_mae: 0.2609 - learning_rate: 5.0000e-04\n",
            "Epoch 130/200\n",
            "\u001b[1m31/31\u001b[0m \u001b[32m━━━━━━━━━━━━━━━━━━━━\u001b[0m\u001b[37m\u001b[0m \u001b[1m0s\u001b[0m 4ms/step - loss: 0.8265 - mae: 0.3846 - val_loss: 0.6799 - val_mae: 0.2472 - learning_rate: 5.0000e-04\n",
            "Epoch 131/200\n",
            "\u001b[1m31/31\u001b[0m \u001b[32m━━━━━━━━━━━━━━━━━━━━\u001b[0m\u001b[37m\u001b[0m \u001b[1m0s\u001b[0m 4ms/step - loss: 0.7940 - mae: 0.3616 - val_loss: 0.6682 - val_mae: 0.2492 - learning_rate: 5.0000e-04\n",
            "Epoch 132/200\n",
            "\u001b[1m31/31\u001b[0m \u001b[32m━━━━━━━━━━━━━━━━━━━━\u001b[0m\u001b[37m\u001b[0m \u001b[1m0s\u001b[0m 3ms/step - loss: 0.7961 - mae: 0.3700 - val_loss: 0.6658 - val_mae: 0.2498 - learning_rate: 5.0000e-04\n",
            "Epoch 133/200\n",
            "\u001b[1m31/31\u001b[0m \u001b[32m━━━━━━━━━━━━━━━━━━━━\u001b[0m\u001b[37m\u001b[0m \u001b[1m0s\u001b[0m 4ms/step - loss: 0.8025 - mae: 0.3807 - val_loss: 0.6647 - val_mae: 0.2537 - learning_rate: 5.0000e-04\n",
            "Epoch 134/200\n",
            "\u001b[1m31/31\u001b[0m \u001b[32m━━━━━━━━━━━━━━━━━━━━\u001b[0m\u001b[37m\u001b[0m \u001b[1m0s\u001b[0m 4ms/step - loss: 0.7764 - mae: 0.3695 - val_loss: 0.6496 - val_mae: 0.2399 - learning_rate: 5.0000e-04\n",
            "Epoch 135/200\n",
            "\u001b[1m31/31\u001b[0m \u001b[32m━━━━━━━━━━━━━━━━━━━━\u001b[0m\u001b[37m\u001b[0m \u001b[1m0s\u001b[0m 4ms/step - loss: 0.7601 - mae: 0.3495 - val_loss: 0.6615 - val_mae: 0.2643 - learning_rate: 5.0000e-04\n",
            "Epoch 136/200\n",
            "\u001b[1m31/31\u001b[0m \u001b[32m━━━━━━━━━━━━━━━━━━━━\u001b[0m\u001b[37m\u001b[0m \u001b[1m0s\u001b[0m 4ms/step - loss: 0.7885 - mae: 0.3670 - val_loss: 0.6417 - val_mae: 0.2442 - learning_rate: 5.0000e-04\n",
            "Epoch 137/200\n",
            "\u001b[1m31/31\u001b[0m \u001b[32m━━━━━━━━━━━━━━━━━━━━\u001b[0m\u001b[37m\u001b[0m \u001b[1m0s\u001b[0m 4ms/step - loss: 0.7812 - mae: 0.3811 - val_loss: 0.6331 - val_mae: 0.2312 - learning_rate: 5.0000e-04\n",
            "Epoch 138/200\n",
            "\u001b[1m31/31\u001b[0m \u001b[32m━━━━━━━━━━━━━━━━━━━━\u001b[0m\u001b[37m\u001b[0m \u001b[1m0s\u001b[0m 4ms/step - loss: 0.7483 - mae: 0.3580 - val_loss: 0.6500 - val_mae: 0.2664 - learning_rate: 5.0000e-04\n",
            "Epoch 139/200\n",
            "\u001b[1m31/31\u001b[0m \u001b[32m━━━━━━━━━━━━━━━━━━━━\u001b[0m\u001b[37m\u001b[0m \u001b[1m0s\u001b[0m 4ms/step - loss: 0.7212 - mae: 0.3286 - val_loss: 0.6273 - val_mae: 0.2468 - learning_rate: 5.0000e-04\n",
            "Epoch 140/200\n",
            "\u001b[1m31/31\u001b[0m \u001b[32m━━━━━━━━━━━━━━━━━━━━\u001b[0m\u001b[37m\u001b[0m \u001b[1m0s\u001b[0m 4ms/step - loss: 0.7525 - mae: 0.3595 - val_loss: 0.6310 - val_mae: 0.2556 - learning_rate: 5.0000e-04\n",
            "Epoch 141/200\n",
            "\u001b[1m31/31\u001b[0m \u001b[32m━━━━━━━━━━━━━━━━━━━━\u001b[0m\u001b[37m\u001b[0m \u001b[1m0s\u001b[0m 5ms/step - loss: 0.7225 - mae: 0.3372 - val_loss: 0.6206 - val_mae: 0.2439 - learning_rate: 5.0000e-04\n",
            "Epoch 142/200\n",
            "\u001b[1m31/31\u001b[0m \u001b[32m━━━━━━━━━━━━━━━━━━━━\u001b[0m\u001b[37m\u001b[0m \u001b[1m0s\u001b[0m 5ms/step - loss: 0.7373 - mae: 0.3683 - val_loss: 0.6119 - val_mae: 0.2374 - learning_rate: 5.0000e-04\n",
            "Epoch 143/200\n",
            "\u001b[1m31/31\u001b[0m \u001b[32m━━━━━━━━━━━━━━━━━━━━\u001b[0m\u001b[37m\u001b[0m \u001b[1m0s\u001b[0m 5ms/step - loss: 0.6871 - mae: 0.3089 - val_loss: 0.6017 - val_mae: 0.2384 - learning_rate: 5.0000e-04\n",
            "Epoch 144/200\n",
            "\u001b[1m31/31\u001b[0m \u001b[32m━━━━━━━━━━━━━━━━━━━━\u001b[0m\u001b[37m\u001b[0m \u001b[1m0s\u001b[0m 6ms/step - loss: 0.7081 - mae: 0.3460 - val_loss: 0.6041 - val_mae: 0.2442 - learning_rate: 5.0000e-04\n",
            "Epoch 145/200\n",
            "\u001b[1m31/31\u001b[0m \u001b[32m━━━━━━━━━━━━━━━━━━━━\u001b[0m\u001b[37m\u001b[0m \u001b[1m0s\u001b[0m 5ms/step - loss: 0.6955 - mae: 0.3381 - val_loss: 0.5844 - val_mae: 0.2254 - learning_rate: 5.0000e-04\n",
            "Epoch 146/200\n",
            "\u001b[1m31/31\u001b[0m \u001b[32m━━━━━━━━━━━━━━━━━━━━\u001b[0m\u001b[37m\u001b[0m \u001b[1m0s\u001b[0m 5ms/step - loss: 0.7159 - mae: 0.3538 - val_loss: 0.5838 - val_mae: 0.2351 - learning_rate: 5.0000e-04\n",
            "Epoch 147/200\n",
            "\u001b[1m31/31\u001b[0m \u001b[32m━━━━━━━━━━━━━━━━━━━━\u001b[0m\u001b[37m\u001b[0m \u001b[1m0s\u001b[0m 6ms/step - loss: 0.6639 - mae: 0.3178 - val_loss: 0.5757 - val_mae: 0.2216 - learning_rate: 5.0000e-04\n",
            "Epoch 148/200\n",
            "\u001b[1m31/31\u001b[0m \u001b[32m━━━━━━━━━━━━━━━━━━━━\u001b[0m\u001b[37m\u001b[0m \u001b[1m0s\u001b[0m 4ms/step - loss: 0.6489 - mae: 0.3046 - val_loss: 0.5730 - val_mae: 0.2296 - learning_rate: 5.0000e-04\n",
            "Epoch 149/200\n",
            "\u001b[1m31/31\u001b[0m \u001b[32m━━━━━━━━━━━━━━━━━━━━\u001b[0m\u001b[37m\u001b[0m \u001b[1m0s\u001b[0m 4ms/step - loss: 0.6933 - mae: 0.3472 - val_loss: 0.5776 - val_mae: 0.2420 - learning_rate: 5.0000e-04\n",
            "Epoch 150/200\n",
            "\u001b[1m31/31\u001b[0m \u001b[32m━━━━━━━━━━━━━━━━━━━━\u001b[0m\u001b[37m\u001b[0m \u001b[1m0s\u001b[0m 4ms/step - loss: 0.6615 - mae: 0.3248 - val_loss: 0.5670 - val_mae: 0.2334 - learning_rate: 5.0000e-04\n",
            "Epoch 151/200\n",
            "\u001b[1m31/31\u001b[0m \u001b[32m━━━━━━━━━━━━━━━━━━━━\u001b[0m\u001b[37m\u001b[0m \u001b[1m0s\u001b[0m 4ms/step - loss: 0.6634 - mae: 0.3460 - val_loss: 0.5585 - val_mae: 0.2273 - learning_rate: 5.0000e-04\n",
            "Epoch 152/200\n",
            "\u001b[1m31/31\u001b[0m \u001b[32m━━━━━━━━━━━━━━━━━━━━\u001b[0m\u001b[37m\u001b[0m \u001b[1m0s\u001b[0m 4ms/step - loss: 0.6401 - mae: 0.3114 - val_loss: 0.5517 - val_mae: 0.2295 - learning_rate: 5.0000e-04\n",
            "Epoch 153/200\n",
            "\u001b[1m31/31\u001b[0m \u001b[32m━━━━━━━━━━━━━━━━━━━━\u001b[0m\u001b[37m\u001b[0m \u001b[1m0s\u001b[0m 4ms/step - loss: 0.6585 - mae: 0.3470 - val_loss: 0.5488 - val_mae: 0.2274 - learning_rate: 5.0000e-04\n",
            "Epoch 154/200\n",
            "\u001b[1m31/31\u001b[0m \u001b[32m━━━━━━━━━━━━━━━━━━━━\u001b[0m\u001b[37m\u001b[0m \u001b[1m0s\u001b[0m 4ms/step - loss: 0.6039 - mae: 0.3030 - val_loss: 0.5484 - val_mae: 0.2391 - learning_rate: 5.0000e-04\n",
            "Epoch 155/200\n",
            "\u001b[1m31/31\u001b[0m \u001b[32m━━━━━━━━━━━━━━━━━━━━\u001b[0m\u001b[37m\u001b[0m \u001b[1m0s\u001b[0m 4ms/step - loss: 0.6344 - mae: 0.3234 - val_loss: 0.5463 - val_mae: 0.2433 - learning_rate: 5.0000e-04\n",
            "Epoch 156/200\n",
            "\u001b[1m31/31\u001b[0m \u001b[32m━━━━━━━━━━━━━━━━━━━━\u001b[0m\u001b[37m\u001b[0m \u001b[1m0s\u001b[0m 4ms/step - loss: 0.6212 - mae: 0.3232 - val_loss: 0.5243 - val_mae: 0.2152 - learning_rate: 5.0000e-04\n",
            "Epoch 157/200\n",
            "\u001b[1m31/31\u001b[0m \u001b[32m━━━━━━━━━━━━━━━━━━━━\u001b[0m\u001b[37m\u001b[0m \u001b[1m0s\u001b[0m 4ms/step - loss: 0.6099 - mae: 0.3032 - val_loss: 0.5230 - val_mae: 0.2141 - learning_rate: 5.0000e-04\n",
            "Epoch 158/200\n",
            "\u001b[1m31/31\u001b[0m \u001b[32m━━━━━━━━━━━━━━━━━━━━\u001b[0m\u001b[37m\u001b[0m \u001b[1m0s\u001b[0m 7ms/step - loss: 0.5935 - mae: 0.3018 - val_loss: 0.5197 - val_mae: 0.2222 - learning_rate: 5.0000e-04\n",
            "Epoch 159/200\n",
            "\u001b[1m31/31\u001b[0m \u001b[32m━━━━━━━━━━━━━━━━━━━━\u001b[0m\u001b[37m\u001b[0m \u001b[1m0s\u001b[0m 6ms/step - loss: 0.6154 - mae: 0.3250 - val_loss: 0.5110 - val_mae: 0.2143 - learning_rate: 5.0000e-04\n",
            "Epoch 160/200\n",
            "\u001b[1m31/31\u001b[0m \u001b[32m━━━━━━━━━━━━━━━━━━━━\u001b[0m\u001b[37m\u001b[0m \u001b[1m0s\u001b[0m 6ms/step - loss: 0.5648 - mae: 0.2882 - val_loss: 0.5089 - val_mae: 0.2192 - learning_rate: 5.0000e-04\n",
            "Epoch 161/200\n",
            "\u001b[1m31/31\u001b[0m \u001b[32m━━━━━━━━━━━━━━━━━━━━\u001b[0m\u001b[37m\u001b[0m \u001b[1m0s\u001b[0m 6ms/step - loss: 0.6090 - mae: 0.3270 - val_loss: 0.5087 - val_mae: 0.2233 - learning_rate: 5.0000e-04\n",
            "Epoch 162/200\n",
            "\u001b[1m31/31\u001b[0m \u001b[32m━━━━━━━━━━━━━━━━━━━━\u001b[0m\u001b[37m\u001b[0m \u001b[1m0s\u001b[0m 8ms/step - loss: 0.6025 - mae: 0.3225 - val_loss: 0.4974 - val_mae: 0.2137 - learning_rate: 5.0000e-04\n",
            "Epoch 163/200\n",
            "\u001b[1m31/31\u001b[0m \u001b[32m━━━━━━━━━━━━━━━━━━━━\u001b[0m\u001b[37m\u001b[0m \u001b[1m0s\u001b[0m 6ms/step - loss: 0.6042 - mae: 0.3359 - val_loss: 0.4946 - val_mae: 0.2245 - learning_rate: 5.0000e-04\n",
            "Epoch 164/200\n",
            "\u001b[1m31/31\u001b[0m \u001b[32m━━━━━━━━━━━━━━━━━━━━\u001b[0m\u001b[37m\u001b[0m \u001b[1m0s\u001b[0m 7ms/step - loss: 0.5824 - mae: 0.3246 - val_loss: 0.4919 - val_mae: 0.2233 - learning_rate: 5.0000e-04\n",
            "Epoch 165/200\n",
            "\u001b[1m31/31\u001b[0m \u001b[32m━━━━━━━━━━━━━━━━━━━━\u001b[0m\u001b[37m\u001b[0m \u001b[1m0s\u001b[0m 7ms/step - loss: 0.6008 - mae: 0.3370 - val_loss: 0.4814 - val_mae: 0.2197 - learning_rate: 5.0000e-04\n",
            "Epoch 166/200\n",
            "\u001b[1m31/31\u001b[0m \u001b[32m━━━━━━━━━━━━━━━━━━━━\u001b[0m\u001b[37m\u001b[0m \u001b[1m0s\u001b[0m 11ms/step - loss: 0.5600 - mae: 0.3010 - val_loss: 0.4672 - val_mae: 0.1958 - learning_rate: 5.0000e-04\n",
            "Epoch 167/200\n",
            "\u001b[1m31/31\u001b[0m \u001b[32m━━━━━━━━━━━━━━━━━━━━\u001b[0m\u001b[37m\u001b[0m \u001b[1m1s\u001b[0m 12ms/step - loss: 0.5338 - mae: 0.2836 - val_loss: 0.4640 - val_mae: 0.2016 - learning_rate: 5.0000e-04\n",
            "Epoch 168/200\n",
            "\u001b[1m31/31\u001b[0m \u001b[32m━━━━━━━━━━━━━━━━━━━━\u001b[0m\u001b[37m\u001b[0m \u001b[1m1s\u001b[0m 18ms/step - loss: 0.5366 - mae: 0.2859 - val_loss: 0.4710 - val_mae: 0.2257 - learning_rate: 5.0000e-04\n",
            "Epoch 169/200\n",
            "\u001b[1m31/31\u001b[0m \u001b[32m━━━━━━━━━━━━━━━━━━━━\u001b[0m\u001b[37m\u001b[0m \u001b[1m1s\u001b[0m 16ms/step - loss: 0.5553 - mae: 0.3100 - val_loss: 0.4519 - val_mae: 0.1991 - learning_rate: 5.0000e-04\n",
            "Epoch 170/200\n",
            "\u001b[1m31/31\u001b[0m \u001b[32m━━━━━━━━━━━━━━━━━━━━\u001b[0m\u001b[37m\u001b[0m \u001b[1m1s\u001b[0m 15ms/step - loss: 0.5402 - mae: 0.3084 - val_loss: 0.4519 - val_mae: 0.2070 - learning_rate: 5.0000e-04\n",
            "Epoch 171/200\n",
            "\u001b[1m31/31\u001b[0m \u001b[32m━━━━━━━━━━━━━━━━━━━━\u001b[0m\u001b[37m\u001b[0m \u001b[1m0s\u001b[0m 7ms/step - loss: 0.5510 - mae: 0.3073 - val_loss: 0.4539 - val_mae: 0.2140 - learning_rate: 5.0000e-04\n",
            "Epoch 172/200\n",
            "\u001b[1m31/31\u001b[0m \u001b[32m━━━━━━━━━━━━━━━━━━━━\u001b[0m\u001b[37m\u001b[0m \u001b[1m0s\u001b[0m 8ms/step - loss: 0.5270 - mae: 0.3046 - val_loss: 0.4420 - val_mae: 0.2086 - learning_rate: 5.0000e-04\n",
            "Epoch 173/200\n",
            "\u001b[1m31/31\u001b[0m \u001b[32m━━━━━━━━━━━━━━━━━━━━\u001b[0m\u001b[37m\u001b[0m \u001b[1m0s\u001b[0m 11ms/step - loss: 0.5261 - mae: 0.3068 - val_loss: 0.4366 - val_mae: 0.2039 - learning_rate: 5.0000e-04\n",
            "Epoch 174/200\n",
            "\u001b[1m31/31\u001b[0m \u001b[32m━━━━━━━━━━━━━━━━━━━━\u001b[0m\u001b[37m\u001b[0m \u001b[1m1s\u001b[0m 11ms/step - loss: 0.4944 - mae: 0.2659 - val_loss: 0.4403 - val_mae: 0.2035 - learning_rate: 5.0000e-04\n",
            "Epoch 175/200\n",
            "\u001b[1m31/31\u001b[0m \u001b[32m━━━━━━━━━━━━━━━━━━━━\u001b[0m\u001b[37m\u001b[0m \u001b[1m0s\u001b[0m 11ms/step - loss: 0.5491 - mae: 0.3407 - val_loss: 0.4349 - val_mae: 0.2117 - learning_rate: 5.0000e-04\n",
            "Epoch 176/200\n",
            "\u001b[1m31/31\u001b[0m \u001b[32m━━━━━━━━━━━━━━━━━━━━\u001b[0m\u001b[37m\u001b[0m \u001b[1m0s\u001b[0m 10ms/step - loss: 0.5001 - mae: 0.2967 - val_loss: 0.4402 - val_mae: 0.2282 - learning_rate: 5.0000e-04\n",
            "Epoch 177/200\n",
            "\u001b[1m31/31\u001b[0m \u001b[32m━━━━━━━━━━━━━━━━━━━━\u001b[0m\u001b[37m\u001b[0m \u001b[1m1s\u001b[0m 12ms/step - loss: 0.4970 - mae: 0.2881 - val_loss: 0.4279 - val_mae: 0.2160 - learning_rate: 5.0000e-04\n",
            "Epoch 178/200\n",
            "\u001b[1m31/31\u001b[0m \u001b[32m━━━━━━━━━━━━━━━━━━━━\u001b[0m\u001b[37m\u001b[0m \u001b[1m1s\u001b[0m 9ms/step - loss: 0.4901 - mae: 0.2907 - val_loss: 0.4315 - val_mae: 0.2307 - learning_rate: 5.0000e-04\n",
            "Epoch 179/200\n",
            "\u001b[1m31/31\u001b[0m \u001b[32m━━━━━━━━━━━━━━━━━━━━\u001b[0m\u001b[37m\u001b[0m \u001b[1m0s\u001b[0m 10ms/step - loss: 0.5130 - mae: 0.3103 - val_loss: 0.4330 - val_mae: 0.2353 - learning_rate: 5.0000e-04\n",
            "Epoch 180/200\n",
            "\u001b[1m31/31\u001b[0m \u001b[32m━━━━━━━━━━━━━━━━━━━━\u001b[0m\u001b[37m\u001b[0m \u001b[1m1s\u001b[0m 11ms/step - loss: 0.4819 - mae: 0.3000 - val_loss: 0.4217 - val_mae: 0.2270 - learning_rate: 5.0000e-04\n",
            "Epoch 181/200\n",
            "\u001b[1m31/31\u001b[0m \u001b[32m━━━━━━━━━━━━━━━━━━━━\u001b[0m\u001b[37m\u001b[0m \u001b[1m0s\u001b[0m 11ms/step - loss: 0.4853 - mae: 0.2977 - val_loss: 0.4060 - val_mae: 0.2081 - learning_rate: 5.0000e-04\n",
            "Epoch 182/200\n",
            "\u001b[1m31/31\u001b[0m \u001b[32m━━━━━━━━━━━━━━━━━━━━\u001b[0m\u001b[37m\u001b[0m \u001b[1m1s\u001b[0m 8ms/step - loss: 0.4674 - mae: 0.2745 - val_loss: 0.4026 - val_mae: 0.2137 - learning_rate: 5.0000e-04\n",
            "Epoch 183/200\n",
            "\u001b[1m31/31\u001b[0m \u001b[32m━━━━━━━━━━━━━━━━━━━━\u001b[0m\u001b[37m\u001b[0m \u001b[1m0s\u001b[0m 9ms/step - loss: 0.4725 - mae: 0.2942 - val_loss: 0.4044 - val_mae: 0.2216 - learning_rate: 5.0000e-04\n",
            "Epoch 184/200\n",
            "\u001b[1m31/31\u001b[0m \u001b[32m━━━━━━━━━━━━━━━━━━━━\u001b[0m\u001b[37m\u001b[0m \u001b[1m0s\u001b[0m 9ms/step - loss: 0.4685 - mae: 0.2963 - val_loss: 0.3928 - val_mae: 0.2083 - learning_rate: 5.0000e-04\n",
            "Epoch 185/200\n",
            "\u001b[1m31/31\u001b[0m \u001b[32m━━━━━━━━━━━━━━━━━━━━\u001b[0m\u001b[37m\u001b[0m \u001b[1m1s\u001b[0m 12ms/step - loss: 0.4455 - mae: 0.2739 - val_loss: 0.3932 - val_mae: 0.2129 - learning_rate: 5.0000e-04\n",
            "Epoch 186/200\n",
            "\u001b[1m31/31\u001b[0m \u001b[32m━━━━━━━━━━━━━━━━━━━━\u001b[0m\u001b[37m\u001b[0m \u001b[1m1s\u001b[0m 10ms/step - loss: 0.4580 - mae: 0.2938 - val_loss: 0.3898 - val_mae: 0.2159 - learning_rate: 5.0000e-04\n",
            "Epoch 187/200\n",
            "\u001b[1m31/31\u001b[0m \u001b[32m━━━━━━━━━━━━━━━━━━━━\u001b[0m\u001b[37m\u001b[0m \u001b[1m1s\u001b[0m 14ms/step - loss: 0.4285 - mae: 0.2626 - val_loss: 0.3741 - val_mae: 0.2015 - learning_rate: 5.0000e-04\n",
            "Epoch 188/200\n",
            "\u001b[1m31/31\u001b[0m \u001b[32m━━━━━━━━━━━━━━━━━━━━\u001b[0m\u001b[37m\u001b[0m \u001b[1m0s\u001b[0m 12ms/step - loss: 0.4367 - mae: 0.2808 - val_loss: 0.3747 - val_mae: 0.2105 - learning_rate: 5.0000e-04\n",
            "Epoch 189/200\n",
            "\u001b[1m31/31\u001b[0m \u001b[32m━━━━━━━━━━━━━━━━━━━━\u001b[0m\u001b[37m\u001b[0m \u001b[1m1s\u001b[0m 17ms/step - loss: 0.4481 - mae: 0.2996 - val_loss: 0.3630 - val_mae: 0.1925 - learning_rate: 5.0000e-04\n",
            "Epoch 190/200\n",
            "\u001b[1m31/31\u001b[0m \u001b[32m━━━━━━━━━━━━━━━━━━━━\u001b[0m\u001b[37m\u001b[0m \u001b[1m1s\u001b[0m 11ms/step - loss: 0.4564 - mae: 0.3017 - val_loss: 0.3638 - val_mae: 0.2102 - learning_rate: 5.0000e-04\n",
            "Epoch 191/200\n",
            "\u001b[1m31/31\u001b[0m \u001b[32m━━━━━━━━━━━━━━━━━━━━\u001b[0m\u001b[37m\u001b[0m \u001b[1m1s\u001b[0m 13ms/step - loss: 0.4477 - mae: 0.3059 - val_loss: 0.3574 - val_mae: 0.1999 - learning_rate: 5.0000e-04\n",
            "Epoch 192/200\n",
            "\u001b[1m31/31\u001b[0m \u001b[32m━━━━━━━━━━━━━━━━━━━━\u001b[0m\u001b[37m\u001b[0m \u001b[1m1s\u001b[0m 16ms/step - loss: 0.4050 - mae: 0.2560 - val_loss: 0.3564 - val_mae: 0.1967 - learning_rate: 5.0000e-04\n",
            "Epoch 193/200\n",
            "\u001b[1m31/31\u001b[0m \u001b[32m━━━━━━━━━━━━━━━━━━━━\u001b[0m\u001b[37m\u001b[0m \u001b[1m1s\u001b[0m 23ms/step - loss: 0.4109 - mae: 0.2697 - val_loss: 0.3586 - val_mae: 0.2093 - learning_rate: 5.0000e-04\n",
            "Epoch 194/200\n",
            "\u001b[1m31/31\u001b[0m \u001b[32m━━━━━━━━━━━━━━━━━━━━\u001b[0m\u001b[37m\u001b[0m \u001b[1m1s\u001b[0m 16ms/step - loss: 0.4171 - mae: 0.2839 - val_loss: 0.3557 - val_mae: 0.2054 - learning_rate: 5.0000e-04\n",
            "Epoch 195/200\n",
            "\u001b[1m31/31\u001b[0m \u001b[32m━━━━━━━━━━━━━━━━━━━━\u001b[0m\u001b[37m\u001b[0m \u001b[1m0s\u001b[0m 8ms/step - loss: 0.4024 - mae: 0.2663 - val_loss: 0.3506 - val_mae: 0.2035 - learning_rate: 5.0000e-04\n",
            "Epoch 196/200\n",
            "\u001b[1m31/31\u001b[0m \u001b[32m━━━━━━━━━━━━━━━━━━━━\u001b[0m\u001b[37m\u001b[0m \u001b[1m1s\u001b[0m 13ms/step - loss: 0.4044 - mae: 0.2834 - val_loss: 0.3485 - val_mae: 0.2153 - learning_rate: 5.0000e-04\n",
            "Epoch 197/200\n",
            "\u001b[1m31/31\u001b[0m \u001b[32m━━━━━━━━━━━━━━━━━━━━\u001b[0m\u001b[37m\u001b[0m \u001b[1m1s\u001b[0m 11ms/step - loss: 0.4182 - mae: 0.2975 - val_loss: 0.3431 - val_mae: 0.2140 - learning_rate: 5.0000e-04\n",
            "Epoch 198/200\n",
            "\u001b[1m31/31\u001b[0m \u001b[32m━━━━━━━━━━━━━━━━━━━━\u001b[0m\u001b[37m\u001b[0m \u001b[1m0s\u001b[0m 6ms/step - loss: 0.4007 - mae: 0.2816 - val_loss: 0.3350 - val_mae: 0.2012 - learning_rate: 5.0000e-04\n",
            "Epoch 199/200\n",
            "\u001b[1m31/31\u001b[0m \u001b[32m━━━━━━━━━━━━━━━━━━━━\u001b[0m\u001b[37m\u001b[0m \u001b[1m0s\u001b[0m 8ms/step - loss: 0.3989 - mae: 0.2855 - val_loss: 0.3253 - val_mae: 0.2007 - learning_rate: 5.0000e-04\n",
            "Epoch 200/200\n",
            "\u001b[1m31/31\u001b[0m \u001b[32m━━━━━━━━━━━━━━━━━━━━\u001b[0m\u001b[37m\u001b[0m \u001b[1m1s\u001b[0m 10ms/step - loss: 0.3708 - mae: 0.2610 - val_loss: 0.3288 - val_mae: 0.2121 - learning_rate: 5.0000e-04\n"
          ]
        }
      ],
      "source": [
        "history = model.fit(X_train_scaled, y_train,\n",
        "                    validation_data=(X_test_scaled, y_test),\n",
        "                    epochs=200,\n",
        "                    batch_size=16,\n",
        "                    verbose=1,\n",
        "                    callbacks=[early_stopping, lr_scheduler])"
      ]
    },
    {
      "cell_type": "markdown",
      "metadata": {
        "id": "rU0ik7fMxN4T"
      },
      "source": [
        "Menyimpan scaler dalam bentuk joblib dan model dalam bentuk keras"
      ]
    },
    {
      "cell_type": "code",
      "execution_count": null,
      "metadata": {
        "colab": {
          "background_save": true
        },
        "id": "Etv5DOasVFS8"
      },
      "outputs": [],
      "source": [
        "dump(scaler, 'scaler.joblib')\n",
        "model.save('model_schedmate.keras')"
      ]
    },
    {
      "cell_type": "markdown",
      "metadata": {
        "id": "_JaF2zU8xa7D"
      },
      "source": [
        "Mengunduh file model dalam keras"
      ]
    },
    {
      "cell_type": "code",
      "execution_count": null,
      "metadata": {
        "colab": {
          "background_save": true
        },
        "id": "KGhVixRqWgLl",
        "outputId": "d7061b16-a310-4465-abfe-90810a2b511c"
      },
      "outputs": [
        {
          "data": {
            "application/javascript": [
              "\n",
              "    async function download(id, filename, size) {\n",
              "      if (!google.colab.kernel.accessAllowed) {\n",
              "        return;\n",
              "      }\n",
              "      const div = document.createElement('div');\n",
              "      const label = document.createElement('label');\n",
              "      label.textContent = `Downloading \"${filename}\": `;\n",
              "      div.appendChild(label);\n",
              "      const progress = document.createElement('progress');\n",
              "      progress.max = size;\n",
              "      div.appendChild(progress);\n",
              "      document.body.appendChild(div);\n",
              "\n",
              "      const buffers = [];\n",
              "      let downloaded = 0;\n",
              "\n",
              "      const channel = await google.colab.kernel.comms.open(id);\n",
              "      // Send a message to notify the kernel that we're ready.\n",
              "      channel.send({})\n",
              "\n",
              "      for await (const message of channel.messages) {\n",
              "        // Send a message to notify the kernel that we're ready.\n",
              "        channel.send({})\n",
              "        if (message.buffers) {\n",
              "          for (const buffer of message.buffers) {\n",
              "            buffers.push(buffer);\n",
              "            downloaded += buffer.byteLength;\n",
              "            progress.value = downloaded;\n",
              "          }\n",
              "        }\n",
              "      }\n",
              "      const blob = new Blob(buffers, {type: 'application/binary'});\n",
              "      const a = document.createElement('a');\n",
              "      a.href = window.URL.createObjectURL(blob);\n",
              "      a.download = filename;\n",
              "      div.appendChild(a);\n",
              "      a.click();\n",
              "      div.remove();\n",
              "    }\n",
              "  "
            ],
            "text/plain": [
              "<IPython.core.display.Javascript object>"
            ]
          },
          "metadata": {},
          "output_type": "display_data"
        },
        {
          "data": {
            "application/javascript": [
              "download(\"download_5b02d2a4-d83a-418e-ac15-ee0a807cd5ee\", \"model_schedmate.keras\", 187329)"
            ],
            "text/plain": [
              "<IPython.core.display.Javascript object>"
            ]
          },
          "metadata": {},
          "output_type": "display_data"
        }
      ],
      "source": [
        "files.download('model_schedmate.keras')"
      ]
    },
    {
      "cell_type": "markdown",
      "metadata": {
        "id": "FURsNteoxppj"
      },
      "source": [
        "Mengunduh scaler"
      ]
    },
    {
      "cell_type": "code",
      "execution_count": null,
      "metadata": {
        "colab": {
          "background_save": true
        },
        "id": "BHtKRI4sWj6c",
        "outputId": "4ec4d3b1-0e72-4184-a33c-446a35331f24"
      },
      "outputs": [
        {
          "data": {
            "application/javascript": [
              "\n",
              "    async function download(id, filename, size) {\n",
              "      if (!google.colab.kernel.accessAllowed) {\n",
              "        return;\n",
              "      }\n",
              "      const div = document.createElement('div');\n",
              "      const label = document.createElement('label');\n",
              "      label.textContent = `Downloading \"${filename}\": `;\n",
              "      div.appendChild(label);\n",
              "      const progress = document.createElement('progress');\n",
              "      progress.max = size;\n",
              "      div.appendChild(progress);\n",
              "      document.body.appendChild(div);\n",
              "\n",
              "      const buffers = [];\n",
              "      let downloaded = 0;\n",
              "\n",
              "      const channel = await google.colab.kernel.comms.open(id);\n",
              "      // Send a message to notify the kernel that we're ready.\n",
              "      channel.send({})\n",
              "\n",
              "      for await (const message of channel.messages) {\n",
              "        // Send a message to notify the kernel that we're ready.\n",
              "        channel.send({})\n",
              "        if (message.buffers) {\n",
              "          for (const buffer of message.buffers) {\n",
              "            buffers.push(buffer);\n",
              "            downloaded += buffer.byteLength;\n",
              "            progress.value = downloaded;\n",
              "          }\n",
              "        }\n",
              "      }\n",
              "      const blob = new Blob(buffers, {type: 'application/binary'});\n",
              "      const a = document.createElement('a');\n",
              "      a.href = window.URL.createObjectURL(blob);\n",
              "      a.download = filename;\n",
              "      div.appendChild(a);\n",
              "      a.click();\n",
              "      div.remove();\n",
              "    }\n",
              "  "
            ],
            "text/plain": [
              "<IPython.core.display.Javascript object>"
            ]
          },
          "metadata": {},
          "output_type": "display_data"
        },
        {
          "data": {
            "application/javascript": [
              "download(\"download_9fac7a9b-8988-4b56-a357-b9e2f664954c\", \"scaler.joblib\", 1871)"
            ],
            "text/plain": [
              "<IPython.core.display.Javascript object>"
            ]
          },
          "metadata": {},
          "output_type": "display_data"
        }
      ],
      "source": [
        "files.download('scaler.joblib')"
      ]
    },
    {
      "cell_type": "markdown",
      "metadata": {
        "id": "eTjMplOtzR1M"
      },
      "source": [
        "Melakukan prediksi pada data uji yang telah diskalakan serta memeriksa nilai NaN dalam y_pred dan menggantinya dengan nilai yang sesuai"
      ]
    },
    {
      "cell_type": "code",
      "execution_count": null,
      "metadata": {
        "colab": {
          "background_save": true
        },
        "id": "fMYifvzsqQT9",
        "outputId": "1d435d39-599c-456d-ee5a-53e3b07368a5"
      },
      "outputs": [
        {
          "name": "stdout",
          "output_type": "stream",
          "text": [
            "\u001b[1m4/4\u001b[0m \u001b[32m━━━━━━━━━━━━━━━━━━━━\u001b[0m\u001b[37m\u001b[0m \u001b[1m0s\u001b[0m 23ms/step\n"
          ]
        }
      ],
      "source": [
        "y_pred = model.predict(X_test_scaled)\n",
        "y_pred = np.nan_to_num(y_pred)"
      ]
    },
    {
      "cell_type": "markdown",
      "metadata": {
        "id": "ly4TXuyQz9iK"
      },
      "source": [
        "Menghitung metrik evaluasi"
      ]
    },
    {
      "cell_type": "code",
      "execution_count": null,
      "metadata": {
        "colab": {
          "background_save": true
        },
        "id": "BttBsPcqz8kg",
        "outputId": "2aac38ec-dd94-46b6-a1d6-710ccc6590cf"
      },
      "outputs": [
        {
          "name": "stdout",
          "output_type": "stream",
          "text": [
            "MSE: 0.0571, MAE: 0.2007\n"
          ]
        }
      ],
      "source": [
        "mse = mean_squared_error(y_test, y_pred)\n",
        "mae = mean_absolute_error(y_test, y_pred)\n",
        "print(f\"MSE: {mse:.4f}, MAE: {mae:.4f}\")"
      ]
    }
  ],
  "metadata": {
    "colab": {
      "provenance": []
    },
    "kernelspec": {
      "display_name": "Python 3",
      "name": "python3"
    },
    "language_info": {
      "name": "python"
    }
  },
  "nbformat": 4,
  "nbformat_minor": 0
}